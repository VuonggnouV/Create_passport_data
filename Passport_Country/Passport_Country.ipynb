{
 "cells": [
  {
   "cell_type": "code",
   "execution_count": 2,
   "id": "f3a1dc63",
   "metadata": {},
   "outputs": [],
   "source": [
    "import os\n",
    "import cv2\n",
    "import numpy as np\n",
    "import matplotlib.pyplot as plt\n",
    "from PIL import Image, ImageDraw, ImageFont, ImageFilter"
   ]
  },
  {
   "cell_type": "code",
   "execution_count": 3,
   "id": "f3111cfd",
   "metadata": {},
   "outputs": [],
   "source": [
    "IMG_PATH = 'Passport_Country.jpg'     # path ảnh\n",
    "FONT_PATH = 'font/ocr-b-regular.ttf' # path font\n",
    "TXT_PATH = 'Passport_Country_Gen.txt' # path file txt chứa data gen (mỗi dòng 88 ký tự)\n",
    "\n",
    "# Folder để lưu ảnh với data gen\n",
    "output_folder = 'Passport_Country_Gen'\n",
    "if not os.path.exists(output_folder):\n",
    "    os.makedirs(output_folder)\n",
    "\n",
    "# Đọc txt\n",
    "with open(TXT_PATH, 'r') as file:\n",
    "    lines = file.readlines()\n",
    "\n",
    "def process_image(line1, line2, image_rgb, mask, font, output_path):\n",
    "    inpainted_image = cv2.inpaint(image_rgb, mask, 0, cv2.INPAINT_NS)\n",
    "    cv2.imwrite(f'Passport_Country_background.jpg', cv2.cvtColor(inpainted_image, cv2.COLOR_RGB2BGR))\n",
    "    inpainted_image_pil = Image.fromarray(inpainted_image)\n",
    "    draw = ImageDraw.Draw(inpainted_image_pil)\n",
    "    \n",
    "    def draw_text_with_stretch(draw, text, position, font, stretch_factor, num_strokes):\n",
    "        # Tạo ảnh tạm thời với nền trong suốt\n",
    "        temp_image = Image.new('RGBA', (2530, 90), (0, 0, 0, 0))\n",
    "        temp_draw = ImageDraw.Draw(temp_image)\n",
    "        \n",
    "        # Text lên hình ảnh tạm thời\n",
    "        for dx in range(-num_strokes, num_strokes + 1):\n",
    "            for dy in range(-num_strokes, num_strokes + 1):\n",
    "                temp_draw.text((dx, dy), text, font=font, fill=(40, 40, 40, 255))\n",
    "            \n",
    "        # Dãn chiều ngang text \n",
    "        width, height = temp_image.size\n",
    "        new_width = int(width * stretch_factor)\n",
    "        stretched_image = temp_image.resize((new_width, height), Image.Resampling.BICUBIC)\n",
    "        stretched_image = stretched_image.filter(ImageFilter.GaussianBlur(1)) # Thêm GausBlur làm mờ tí cho dúng thiệt V:\n",
    "\n",
    "        # dãn xong sang RGB để paste vào ảnh chính\n",
    "        stretched_image_rgb = stretched_image.convert(\"RGB\")\n",
    "        inpainted_image_pil.paste(stretched_image_rgb, position, stretched_image)\n",
    "    \n",
    "    # Vùng thứ nhất\n",
    "    start_x1, start_y1 = 85, 1580  # Vùng thứ nhất\n",
    "    draw_text_with_stretch(draw, line1, (start_x1, start_y1), font, stretch_factor=1.228, num_strokes=0)\n",
    "\n",
    "    # Vùng thứ hai\n",
    "    start_x2, start_y2 = 85, 1735  # Vùng thứ hai\n",
    "    draw_text_with_stretch(draw, line2, (start_x2, start_y2), font, stretch_factor=1.228, num_strokes=0)\n",
    "\n",
    "    inpainted_image_with_text = np.array(inpainted_image_pil)\n",
    "    \n",
    "    # Lưu ảnh\n",
    "    cv2.imwrite(output_path, cv2.cvtColor(inpainted_image_with_text, cv2.COLOR_RGB2BGR))"
   ]
  },
  {
   "cell_type": "code",
   "execution_count": 4,
   "id": "f7af2516",
   "metadata": {},
   "outputs": [],
   "source": [
    "# Đọc ảnh và tạo mask\n",
    "image = cv2.imread(IMG_PATH)\n",
    "image_rgb = cv2.cvtColor(image, cv2.COLOR_BGR2RGB)\n",
    "\n",
    "mask = np.zeros(image.shape[:2], np.uint8)\n",
    "mask[1592:1660, 77:2690] = 255  # Vùng thứ nhất\n",
    "mask[1750:1825, 77:2690] = 255  # Vùng thứ hai \n",
    "\n",
    "# Đọc font\n",
    "font = ImageFont.truetype(FONT_PATH, 81)"
   ]
  },
  {
   "cell_type": "code",
   "execution_count": 5,
   "id": "6d6df228",
   "metadata": {},
   "outputs": [],
   "source": [
    "# Xử lý file txt\n",
    "for idx in range(0, len(lines), 2):\n",
    "    line1 = lines[idx].strip()  # dòng đầu tiên\n",
    "    line2 = lines[idx+1].strip() if (idx+1) < len(lines) else \"\"  # dòng thứ hai\n",
    "    output_path = os.path.join(output_folder, f'Passport_Country_Gen_{idx//2 + 1}.jpg')\n",
    "    process_image(line1, line2, image_rgb, mask, font, output_path)"
   ]
  },
  {
   "cell_type": "code",
   "execution_count": null,
   "id": "d00f4224",
   "metadata": {},
   "outputs": [],
   "source": []
  }
 ],
 "metadata": {
  "kernelspec": {
   "display_name": "Python 3 (ipykernel)",
   "language": "python",
   "name": "python3"
  },
  "language_info": {
   "codemirror_mode": {
    "name": "ipython",
    "version": 3
   },
   "file_extension": ".py",
   "mimetype": "text/x-python",
   "name": "python",
   "nbconvert_exporter": "python",
   "pygments_lexer": "ipython3",
   "version": "3.11.5"
  }
 },
 "nbformat": 4,
 "nbformat_minor": 5
}
