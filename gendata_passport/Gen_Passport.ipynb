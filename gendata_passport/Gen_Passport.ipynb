{
 "cells": [
  {
   "cell_type": "markdown",
   "id": "6c1f1601",
   "metadata": {},
   "source": [
    "# SOS\n",
    "* name processing\n",
    "* Country name\n",
    "* .txt"
   ]
  },
  {
   "cell_type": "code",
   "execution_count": null,
   "id": "139b6483",
   "metadata": {},
   "outputs": [],
   "source": []
  },
  {
   "cell_type": "code",
   "execution_count": 59,
   "id": "c3210162",
   "metadata": {},
   "outputs": [
    {
     "name": "stdout",
     "output_type": "stream",
     "text": [
      "Defaulting to user installation because normal site-packages is not writeableNote: you may need to restart the kernel to use updated packages.\n",
      "\n",
      "Requirement already satisfied: faker in c:\\users\\vuongdeptrai\\appdata\\roaming\\python\\python311\\site-packages (26.1.0)\n",
      "Requirement already satisfied: python-dateutil>=2.4 in c:\\programdata\\anaconda3\\lib\\site-packages (from faker) (2.8.2)\n",
      "Requirement already satisfied: six>=1.5 in c:\\programdata\\anaconda3\\lib\\site-packages (from python-dateutil>=2.4->faker) (1.16.0)\n"
     ]
    }
   ],
   "source": [
    "#library to create sample of names from another Countries.\n",
    "pip install faker"
   ]
  },
  {
   "cell_type": "markdown",
   "id": "089baa9c",
   "metadata": {},
   "source": [
    "# Line 1"
   ]
  },
  {
   "cell_type": "markdown",
   "id": "ad5c27b0",
   "metadata": {},
   "source": [
    "### 1-2"
   ]
  },
  {
   "cell_type": "code",
   "execution_count": 2,
   "id": "c0ab052f",
   "metadata": {},
   "outputs": [
    {
     "name": "stdout",
     "output_type": "stream",
     "text": [
      "['PD', 'PP', 'P<', 'P<', 'PP', 'P<', 'P<', 'P<', 'PS', 'PP', 'P<', 'P<', 'P<', 'PX', 'P<', 'P<', 'P<', 'P<', 'P<', 'P<', 'P<', 'PD', 'P<', 'P<', 'P<', 'P<', 'P<', 'P<', 'P<', 'P<', 'P<', 'P<', 'P<', 'P<', 'P<', 'P<', 'P<', 'PO', 'P<', 'P<', 'P<', 'P<', 'PP', 'P<', 'PP', 'P<', 'P<', 'P<', 'P<', 'PP', 'PP', 'P<', 'P<', 'P<', 'P<', 'P<', 'P<', 'P<', 'P<', 'P<', 'P<', 'P<', 'PP', 'PX', 'P<', 'P<', 'PO', 'P<', 'P<', 'PP', 'P<', 'P<', 'P<', 'P<', 'PP', 'P<', 'P<', 'PP', 'P<', 'P<', 'P<', 'P<', 'P<', 'P<', 'P<', 'P<', 'P<', 'PS', 'P<', 'P<', 'P<', 'P<', 'P<', 'P<', 'PP', 'P<', 'P<', 'P<', 'P<', 'P<']\n"
     ]
    }
   ],
   "source": [
    "#first\n",
    "import random\n",
    "first = [\"P<\"] * 80 + [\"PP\"] * 12 + [\"PD\"] * 2 + [\"PO\"]*2 + [\"PS\"] *2 + [\"PX\"] *2\n",
    "random.shuffle(first)\n",
    "print(first)"
   ]
  },
  {
   "cell_type": "markdown",
   "id": "851fa980",
   "metadata": {},
   "source": [
    "### 3-5"
   ]
  },
  {
   "cell_type": "code",
   "execution_count": 3,
   "id": "ef541922",
   "metadata": {},
   "outputs": [
    {
     "name": "stdout",
     "output_type": "stream",
     "text": [
      "['ARG', 'ARG', 'ARG', 'ARG', 'ARG', 'ARG', 'ARG', 'ARG', 'ARG', 'ARG', 'ARG', 'ARG', 'ARG', 'ARG', 'ARG', 'ARG', 'ARG', 'ARG', 'ARG', 'ARG', 'ARG', 'ARG', 'ARG', 'ARG', 'ARG', 'ARG', 'ARG', 'ARG', 'ARG', 'ARG', 'ARG', 'ARG', 'ARG', 'ARG', 'ARG', 'ARG', 'ARG', 'ARG', 'ARG', 'ARG', 'ARG', 'ARG', 'ARG', 'ARG', 'ARG', 'ARG', 'ARG', 'ARG', 'ARG', 'ARG', 'ARG', 'ARG', 'ARG', 'ARG', 'ARG', 'ARG', 'ARG', 'ARG', 'ARG', 'ARG', 'ARG', 'ARG', 'ARG', 'ARG', 'ARG', 'ARG', 'ARG', 'ARG', 'ARG', 'ARG', 'ARG', 'ARG', 'ARG', 'ARG', 'ARG', 'ARG', 'ARG', 'ARG', 'ARG', 'ARG', 'ARG', 'ARG', 'ARG', 'ARG', 'ARG', 'ARG', 'ARG', 'ARG', 'ARG', 'ARG', 'ARG', 'ARG', 'ARG', 'ARG', 'ARG', 'ARG', 'ARG', 'ARG', 'ARG', 'ARG']\n"
     ]
    }
   ],
   "source": [
    "#country \n",
    "country = [\"ARG\"] * 100\n",
    "print(country)"
   ]
  },
  {
   "cell_type": "markdown",
   "id": "aa95bf88",
   "metadata": {},
   "source": [
    "### 6-44"
   ]
  },
  {
   "cell_type": "code",
   "execution_count": 581,
   "id": "814aa18f",
   "metadata": {
    "scrolled": true
   },
   "outputs": [
    {
     "name": "stdout",
     "output_type": "stream",
     "text": [
      "['ANITA CONLEY', 'LUIS LUCERO', 'TIMOTHY HARTMAN', 'KRISTEN FOWLER', 'MARK RAMIREZ', 'CHARLOTTE CHAPMAN', 'DAWN JONES', 'COLLEEN DAVIS', 'DAVID JONES', 'CHRISTINE MORALES', 'CHRISTOPHER LEE', 'JODI NORMAN', 'SABRINA GOODMAN', 'JAMES SANTOS', 'THOMAS MEJIA', 'TIMOTHY RODRIGUEZ', 'COREY RIOS', 'JAMIE SINGLETON', 'DANNY THOMAS', 'JULIE BELL', 'PATRICIA JONES', 'TRAVIS COHEN', 'MICHAEL WALL', 'ANTHONY STEVENSON', 'CAMERON NGUYEN', 'KELLY CRUZ', 'ROBERTA LEE', 'CHRISTOPHER MERCADO', 'JILLIAN MALDONADO', 'JAMES BUTLER', 'SHAWN JOSEPH', 'TAMMY JOHNSON', 'CASEY VILLA', 'DR. PHILLIP BELL', 'MARCUS WARD', 'STEPHANIE HOFFMAN', 'DEBORAH ALEXANDER', 'LEAH SCHMIDT', 'PATRICK GRANT', 'JESUS WILLIAMS', 'TREVOR HOWARD', 'RONALD GORDON', 'MARIE HARRISON', 'CHRISTINA GORDON', 'ANDREW MYERS', 'MARY RIOS', 'SHARON CANNON', 'ZOE GORDON', 'HOWARD FUENTES', 'THOMAS MORRISON', 'RICHARD PARK', 'ERIKA RAMIREZ', 'KARA ALEXANDER', 'TYLER PEARSON', 'AMANDA BROOKS', 'DEBORAH CONLEY', 'JENNIFER CHAN', 'ASHLEY NGUYEN', 'ANTONIO MORALES', 'MR. JAMES BARRERA', 'RONALD MORALES', 'WESLEY THORNTON', 'JULIA NUNEZ', 'PAIGE WILLIAMS', 'SARAH TORRES', 'KATRINA WILSON', 'BRENDA CLARK', 'ARIANA DONOVAN', 'GILBERT GIBSON', 'STEVEN CHEN', 'EMILY EDWARDS', 'MATTHEW SERRANO', 'JESSICA BERG', 'DOUGLAS FRITZ', 'MICHELLE BROOKS', 'STEVEN JOHNSON', 'DEANNA CRAIG', 'MICHAELA ZUNIGA', 'KARINA MORGAN', 'KEITH SCHROEDER', 'MICHELLE MCDONALD', 'JAMES HENDERSON', 'JOSHUA WHITE', 'JEFFREY FREEMAN', 'MICHAEL FISHER', 'SCOTT TYLER', 'JOHN LOWE', 'WILLIAM COLON', 'HOLLY PRICE', 'GREGORY BAKER', 'DAVID JONES', 'THOMAS MARTIN', 'NICHOLAS DENNIS', 'JOHN BRANDT', 'RICHARD AYERS', 'RONNIE POOLE', 'JEFFREY SMITH', 'KYLE VALDEZ', 'BRANDON MITCHELL', 'LUCAS STEVENS', 'VIRGINIA CLARK', 'VICTORIA OLSON', 'BRIAN BROWN', 'ERIN WERNER', 'CHRISTINE ESPINOZA', 'STEPHANIE BENDER', 'JAMIE CLARK', 'BRYAN STEIN MD', 'THOMAS MILES', 'MICHAEL POTTER', 'ASHLEY THOMPSON', 'ERIKA FLETCHER', 'KRISTIN HICKS', 'MARTIN NAVARRO', 'GARY WILLIAMS', 'NICOLE VALDEZ', 'LAURA OWENS', 'MINDY JOHNSON', 'NICHOLAS PEARSON', 'TERESA BLACK']\n"
     ]
    }
   ],
   "source": [
    "#random name\n",
    "# Country code: https://faker.readthedocs.io/en/master/index.html\n",
    "# latinh words : https://ohtranslate.com/japanese-to-latin#google_vignette\n",
    "from faker import Faker\n",
    "fake = Faker('en_CA')\n",
    "name = [fake.name() for _ in range(120)]\n",
    "names_upper = [name.upper() for name in name]\n",
    "print(names_upper)"
   ]
  },
  {
   "cell_type": "code",
   "execution_count": 582,
   "id": "419576b2",
   "metadata": {},
   "outputs": [
    {
     "name": "stdout",
     "output_type": "stream",
     "text": [
      "['ANITA CONLEY', 'LUIS LUCERO', 'TIMOTHY HARTMAN', 'KRISTEN FOWLER', 'MARK RAMIREZ', 'CHARLOTTE CHAPMAN', 'DAWN JONES', 'COLLEEN DAVIS', 'DAVID JONES', 'CHRISTINE MORALES', 'CHRISTOPHER LEE', 'JODI NORMAN', 'SABRINA GOODMAN', 'JAMES SANTOS', 'THOMAS MEJIA', 'TIMOTHY RODRIGUEZ', 'COREY RIOS', 'JAMIE SINGLETON', 'DANNY THOMAS', 'JULIE BELL', 'PATRICIA JONES', 'TRAVIS COHEN', 'MICHAEL WALL', 'ANTHONY STEVENSON', 'CAMERON NGUYEN', 'KELLY CRUZ', 'ROBERTA LEE', 'CHRISTOPHER MERCADO', 'JILLIAN MALDONADO', 'JAMES BUTLER', 'SHAWN JOSEPH', 'TAMMY JOHNSON', 'CASEY VILLA', 'DR. PHILLIP BELL', 'MARCUS WARD', 'STEPHANIE HOFFMAN', 'DEBORAH ALEXANDER', 'LEAH SCHMIDT', 'PATRICK GRANT', 'JESUS WILLIAMS', 'TREVOR HOWARD', 'RONALD GORDON', 'MARIE HARRISON', 'CHRISTINA GORDON', 'ANDREW MYERS', 'MARY RIOS', 'SHARON CANNON', 'ZOE GORDON', 'HOWARD FUENTES', 'THOMAS MORRISON', 'RICHARD PARK', 'ERIKA RAMIREZ', 'KARA ALEXANDER', 'TYLER PEARSON', 'AMANDA BROOKS', 'DEBORAH CONLEY', 'JENNIFER CHAN', 'ASHLEY NGUYEN', 'ANTONIO MORALES', 'MR. JAMES BARRERA', 'RONALD MORALES', 'WESLEY THORNTON', 'JULIA NUNEZ', 'PAIGE WILLIAMS', 'SARAH TORRES', 'KATRINA WILSON', 'BRENDA CLARK', 'ARIANA DONOVAN', 'GILBERT GIBSON', 'STEVEN CHEN', 'EMILY EDWARDS', 'MATTHEW SERRANO', 'JESSICA BERG', 'DOUGLAS FRITZ', 'MICHELLE BROOKS', 'STEVEN JOHNSON', 'DEANNA CRAIG', 'MICHAELA ZUNIGA', 'KARINA MORGAN', 'KEITH SCHROEDER', 'MICHELLE MCDONALD', 'JAMES HENDERSON', 'JOSHUA WHITE', 'JEFFREY FREEMAN', 'MICHAEL FISHER', 'SCOTT TYLER', 'JOHN LOWE', 'WILLIAM COLON', 'HOLLY PRICE', 'GREGORY BAKER', 'DAVID JONES', 'THOMAS MARTIN', 'NICHOLAS DENNIS', 'JOHN BRANDT', 'RICHARD AYERS', 'RONNIE POOLE', 'JEFFREY SMITH', 'KYLE VALDEZ', 'BRANDON MITCHELL', 'LUCAS STEVENS', 'VIRGINIA CLARK', 'VICTORIA LSON', 'BRIAN BROWN', 'ERIN WERNER', 'CHRISTINE ESPINOZA', 'STEPHANIE BENDER', 'JAMIE CLARK', 'BRYAN STEIN MD', 'THOMAS MILES', 'MICHAEL POTTER', 'ASHLEY THOMPSON', 'ERIKA FLETCHER', 'KRISTIN HICKS', 'MARTIN NAVARRO', 'GARY WILLIAMS', 'NICOLE VALDEZ', 'LAURA WENS', 'MINDY JOHNSON', 'NICHOLAS PEARSON', 'TERESA BLACK']\n"
     ]
    }
   ],
   "source": [
    "#names = [item for item in names_upper if not (item.startswith('DR. ') or item.startswith('MR. ') or item.startswith('MRS. ') or item.endswith(' JR.'))]\n",
    "#names = [item.replace('DR(A). ', '').replace('SR(A). ', '') for item in names]\n",
    "names = [item.replace(' O', ' ') for item in names_upper]\n",
    "print(names)\n"
   ]
  },
  {
   "cell_type": "markdown",
   "id": "c9201090",
   "metadata": {},
   "source": [
    "### Find and processing, add 100 names in names list"
   ]
  },
  {
   "cell_type": "code",
   "execution_count": 13,
   "id": "dcb61b2f",
   "metadata": {},
   "outputs": [],
   "source": [
    "#list names \n",
    "names = ['A','JUAN MARTINEZ', 'KIMBERLY BLAKE', 'THOMAS YODER', 'MARY PAGE', 'EMILY COHEN', 'ELIZABETH DEAN', 'CHRISTINE LANE', 'MIRANDA MORALES', 'MARY FERNANDEZ', 'JOAN ANDERSON', 'JOHN MANNING', 'LISA CANTU', 'DIANA PORTER', 'ROBERT SMITH', 'MARIA MURRAY', 'JENNIFER WADE', 'MARY LOGAN', 'MARY MORRIS', 'JENNIFER BURGESS', 'PATRICK RAMIREZ', 'JAMES SANCHEZ', 'JIMMY DAVIS', 'DEVIN MARTIN', 'AMY SAVAGE', 'TINA LOPEZ', 'JASON LYONS', 'KAYLA HESS', 'SHANNON MCINTOSH', 'ROBERT STOKES', 'CASSANDRA WARREN', 'JENNIFER WALKER', 'ADAM HANSEN', 'VIRGINIA HERNANDEZ', 'ANDRE WILKINS', 'BARBARA WILSON', 'TAMARA BURKE', 'ROBERT WRIGHT', 'JOSEPH GRAY', 'DIANA WARD', 'KRISTINE RTIZ', 'TIM HAAS', 'JUSTIN LIVER', 'DAVID PAUL', 'ALEC BROWN', 'HANNAH CRUZ DDS', 'SUMMER WHITE', 'JOSEPH ESTES', 'JESSICA GREEN', 'SUSAN FRANKLIN', 'JORDAN JIMENEZ', 'JACQUELINE MCINTYRE', 'ALLISON SMITH', 'DEBORAH COOK', 'DANIELLE MARSHALL', 'KATHERINE TYLER', 'BRETT GONZALEZ', 'EMILY PAUL', 'DANIEL BRYANT', 'DAVID PRESTON', 'MATTHEW MOLINA', 'DAVID RICHARDSON', 'CALEB BRYANT', 'ADAM CAMPOS', 'TRACY HALL', 'SANDRA WEEKS', 'CAITLIN WALKER', 'MOLLY ELLIS', 'SAMANTHA SWEENEY', 'NINA KRAMER', 'DREW CRUZ', 'JASON HUTCHINSON', 'MARK RICHARDS', 'STEPHEN JONES', 'MARIA SHERMAN', 'CHRISTINA MARTINEZ', 'EDGAR CRAWFORD', 'CATHERINE PERRY', 'KAREN GILES', 'ZACHARY GONZALEZ', 'RYAN JACOBS', 'ETHAN RIVERA', 'OLIVIA SHERMAN', 'NICOLE YOUNG', 'JOHN HALL', 'DONNA COLLINS', 'STEVEN MARTINEZ', 'MICHELE GREEN', 'CHRISTOPHER LEE', 'BARBARA ROMAN', 'BRITTANY CONRAD', 'BRIAN MCDONALD', 'AARON CARROLL', 'DANIELLE BEASLEY', 'AMANDA GUERRERO DDS', 'KRISTA MARTINEZ', 'ANTHONY HAYDEN', 'JACQUELINE DUNN', 'PAUL JOHNSON', 'CHRISTOPHER LAMBERT']"
   ]
  },
  {
   "cell_type": "code",
   "execution_count": 14,
   "id": "4822e51d",
   "metadata": {
    "scrolled": false
   },
   "outputs": [
    {
     "name": "stdout",
     "output_type": "stream",
     "text": [
      "100 Names:\n",
      "['A', 'JUAN MARTINEZ', 'KIMBERLY BLAKE', 'THOMAS YODER', 'MARY PAGE', 'EMILY COHEN', 'ELIZABETH DEAN', 'CHRISTINE LANE', 'MIRANDA MORALES', 'MARY FERNANDEZ', 'JOAN ANDERSON', 'JOHN MANNING', 'LISA CANTU', 'DIANA PORTER', 'ROBERT SMITH', 'MARIA MURRAY', 'JENNIFER WADE', 'MARY LOGAN', 'MARY MORRIS', 'JENNIFER BURGESS', 'PATRICK RAMIREZ', 'JAMES SANCHEZ', 'JIMMY DAVIS', 'DEVIN MARTIN', 'AMY SAVAGE', 'TINA LOPEZ', 'JASON LYONS', 'KAYLA HESS', 'SHANNON MCINTOSH', 'ROBERT STOKES', 'CASSANDRA WARREN', 'JENNIFER WALKER', 'ADAM HANSEN', 'VIRGINIA HERNANDEZ', 'ANDRE WILKINS', 'BARBARA WILSON', 'TAMARA BURKE', 'ROBERT WRIGHT', 'JOSEPH GRAY', 'DIANA WARD', 'KRISTINE RTIZ', 'TIM HAAS', 'JUSTIN LIVER', 'DAVID PAUL', 'ALEC BROWN', 'HANNAH CRUZ DDS', 'SUMMER WHITE', 'JOSEPH ESTES', 'JESSICA GREEN', 'SUSAN FRANKLIN', 'JORDAN JIMENEZ', 'JACQUELINE MCINTYRE', 'ALLISON SMITH', 'DEBORAH COOK', 'DANIELLE MARSHALL', 'KATHERINE TYLER', 'BRETT GONZALEZ', 'EMILY PAUL', 'DANIEL BRYANT', 'DAVID PRESTON', 'MATTHEW MOLINA', 'DAVID RICHARDSON', 'CALEB BRYANT', 'ADAM CAMPOS', 'TRACY HALL', 'SANDRA WEEKS', 'CAITLIN WALKER', 'MOLLY ELLIS', 'SAMANTHA SWEENEY', 'NINA KRAMER', 'DREW CRUZ', 'JASON HUTCHINSON', 'MARK RICHARDS', 'STEPHEN JONES', 'MARIA SHERMAN', 'CHRISTINA MARTINEZ', 'EDGAR CRAWFORD', 'CATHERINE PERRY', 'KAREN GILES', 'ZACHARY GONZALEZ', 'RYAN JACOBS', 'ETHAN RIVERA', 'OLIVIA SHERMAN', 'NICOLE YOUNG', 'JOHN HALL', 'DONNA COLLINS', 'STEVEN MARTINEZ', 'MICHELE GREEN', 'CHRISTOPHER LEE', 'BARBARA ROMAN', 'BRITTANY CONRAD', 'BRIAN MCDONALD', 'AARON CARROLL', 'DANIELLE BEASLEY', 'AMANDA GUERRERO DDS', 'KRISTA MARTINEZ', 'ANTHONY HAYDEN', 'JACQUELINE DUNN', 'PAUL JOHNSON', 'CHRISTOPHER LAMBERT']\n"
     ]
    }
   ],
   "source": [
    "# 100 names is True\n",
    "names = [name.upper() for name in names]\n",
    "print(f'{len(names)} Names:')\n",
    "print(names)"
   ]
  },
  {
   "cell_type": "code",
   "execution_count": 15,
   "id": "a188373e",
   "metadata": {
    "scrolled": true
   },
   "outputs": [
    {
     "name": "stdout",
     "output_type": "stream",
     "text": [
      "A<<<<<<<<<<<<<<<<<<<<<<<<<<<<<<<<<<<<<<\n",
      "JUAN<<MARTINEZ<<<<<<<<<<<<<<<<<<<<<<<<<\n",
      "KIMBERLY<<BLAKE<<<<<<<<<<<<<<<<<<<<<<<<\n",
      "THOMAS<<YODER<<<<<<<<<<<<<<<<<<<<<<<<<<\n",
      "MARY<<PAGE<<<<<<<<<<<<<<<<<<<<<<<<<<<<<\n",
      "EMILY<<COHEN<<<<<<<<<<<<<<<<<<<<<<<<<<<\n",
      "ELIZABETH<<DEAN<<<<<<<<<<<<<<<<<<<<<<<<\n",
      "CHRISTINE<<LANE<<<<<<<<<<<<<<<<<<<<<<<<\n",
      "MIRANDA<<MORALES<<<<<<<<<<<<<<<<<<<<<<<\n",
      "MARY<<FERNANDEZ<<<<<<<<<<<<<<<<<<<<<<<<\n",
      "JOAN<<ANDERSON<<<<<<<<<<<<<<<<<<<<<<<<<\n",
      "JOHN<<MANNING<<<<<<<<<<<<<<<<<<<<<<<<<<\n",
      "LISA<<CANTU<<<<<<<<<<<<<<<<<<<<<<<<<<<<\n",
      "DIANA<<PORTER<<<<<<<<<<<<<<<<<<<<<<<<<<\n",
      "ROBERT<<SMITH<<<<<<<<<<<<<<<<<<<<<<<<<<\n",
      "MARIA<<MURRAY<<<<<<<<<<<<<<<<<<<<<<<<<<\n",
      "JENNIFER<<WADE<<<<<<<<<<<<<<<<<<<<<<<<<\n",
      "MARY<<LOGAN<<<<<<<<<<<<<<<<<<<<<<<<<<<<\n",
      "MARY<<MORRIS<<<<<<<<<<<<<<<<<<<<<<<<<<<\n",
      "JENNIFER<<BURGESS<<<<<<<<<<<<<<<<<<<<<<\n",
      "PATRICK<<RAMIREZ<<<<<<<<<<<<<<<<<<<<<<<\n",
      "JAMES<<SANCHEZ<<<<<<<<<<<<<<<<<<<<<<<<<\n",
      "JIMMY<<DAVIS<<<<<<<<<<<<<<<<<<<<<<<<<<<\n",
      "DEVIN<<MARTIN<<<<<<<<<<<<<<<<<<<<<<<<<<\n",
      "AMY<<SAVAGE<<<<<<<<<<<<<<<<<<<<<<<<<<<<\n",
      "TINA<<LOPEZ<<<<<<<<<<<<<<<<<<<<<<<<<<<<\n",
      "JASON<<LYONS<<<<<<<<<<<<<<<<<<<<<<<<<<<\n",
      "KAYLA<<HESS<<<<<<<<<<<<<<<<<<<<<<<<<<<<\n",
      "SHANNON<<MCINTOSH<<<<<<<<<<<<<<<<<<<<<<\n",
      "ROBERT<<STOKES<<<<<<<<<<<<<<<<<<<<<<<<<\n",
      "CASSANDRA<<WARREN<<<<<<<<<<<<<<<<<<<<<<\n",
      "JENNIFER<<WALKER<<<<<<<<<<<<<<<<<<<<<<<\n",
      "ADAM<<HANSEN<<<<<<<<<<<<<<<<<<<<<<<<<<<\n",
      "VIRGINIA<<HERNANDEZ<<<<<<<<<<<<<<<<<<<<\n",
      "ANDRE<<WILKINS<<<<<<<<<<<<<<<<<<<<<<<<<\n",
      "BARBARA<<WILSON<<<<<<<<<<<<<<<<<<<<<<<<\n",
      "TAMARA<<BURKE<<<<<<<<<<<<<<<<<<<<<<<<<<\n",
      "ROBERT<<WRIGHT<<<<<<<<<<<<<<<<<<<<<<<<<\n",
      "JOSEPH<<GRAY<<<<<<<<<<<<<<<<<<<<<<<<<<<\n",
      "DIANA<<WARD<<<<<<<<<<<<<<<<<<<<<<<<<<<<\n",
      "KRISTINE<<RTIZ<<<<<<<<<<<<<<<<<<<<<<<<<\n",
      "TIM<<HAAS<<<<<<<<<<<<<<<<<<<<<<<<<<<<<<\n",
      "JUSTIN<<LIVER<<<<<<<<<<<<<<<<<<<<<<<<<<\n",
      "DAVID<<PAUL<<<<<<<<<<<<<<<<<<<<<<<<<<<<\n",
      "ALEC<<BROWN<<<<<<<<<<<<<<<<<<<<<<<<<<<<\n",
      "HANNAH<<CRUZ<DDS<<<<<<<<<<<<<<<<<<<<<<<\n",
      "SUMMER<<WHITE<<<<<<<<<<<<<<<<<<<<<<<<<<\n",
      "JOSEPH<<ESTES<<<<<<<<<<<<<<<<<<<<<<<<<<\n",
      "JESSICA<<GREEN<<<<<<<<<<<<<<<<<<<<<<<<<\n",
      "SUSAN<<FRANKLIN<<<<<<<<<<<<<<<<<<<<<<<<\n",
      "JORDAN<<JIMENEZ<<<<<<<<<<<<<<<<<<<<<<<<\n",
      "JACQUELINE<<MCINTYRE<<<<<<<<<<<<<<<<<<<\n",
      "ALLISON<<SMITH<<<<<<<<<<<<<<<<<<<<<<<<<\n",
      "DEBORAH<<COOK<<<<<<<<<<<<<<<<<<<<<<<<<<\n",
      "DANIELLE<<MARSHALL<<<<<<<<<<<<<<<<<<<<<\n",
      "KATHERINE<<TYLER<<<<<<<<<<<<<<<<<<<<<<<\n",
      "BRETT<<GONZALEZ<<<<<<<<<<<<<<<<<<<<<<<<\n",
      "EMILY<<PAUL<<<<<<<<<<<<<<<<<<<<<<<<<<<<\n",
      "DANIEL<<BRYANT<<<<<<<<<<<<<<<<<<<<<<<<<\n",
      "DAVID<<PRESTON<<<<<<<<<<<<<<<<<<<<<<<<<\n",
      "MATTHEW<<MOLINA<<<<<<<<<<<<<<<<<<<<<<<<\n",
      "DAVID<<RICHARDSON<<<<<<<<<<<<<<<<<<<<<<\n",
      "CALEB<<BRYANT<<<<<<<<<<<<<<<<<<<<<<<<<<\n",
      "ADAM<<CAMPOS<<<<<<<<<<<<<<<<<<<<<<<<<<<\n",
      "TRACY<<HALL<<<<<<<<<<<<<<<<<<<<<<<<<<<<\n",
      "SANDRA<<WEEKS<<<<<<<<<<<<<<<<<<<<<<<<<<\n",
      "CAITLIN<<WALKER<<<<<<<<<<<<<<<<<<<<<<<<\n",
      "MOLLY<<ELLIS<<<<<<<<<<<<<<<<<<<<<<<<<<<\n",
      "SAMANTHA<<SWEENEY<<<<<<<<<<<<<<<<<<<<<<\n",
      "NINA<<KRAMER<<<<<<<<<<<<<<<<<<<<<<<<<<<\n",
      "DREW<<CRUZ<<<<<<<<<<<<<<<<<<<<<<<<<<<<<\n",
      "JASON<<HUTCHINSON<<<<<<<<<<<<<<<<<<<<<<\n",
      "MARK<<RICHARDS<<<<<<<<<<<<<<<<<<<<<<<<<\n",
      "STEPHEN<<JONES<<<<<<<<<<<<<<<<<<<<<<<<<\n",
      "MARIA<<SHERMAN<<<<<<<<<<<<<<<<<<<<<<<<<\n",
      "CHRISTINA<<MARTINEZ<<<<<<<<<<<<<<<<<<<<\n",
      "EDGAR<<CRAWFORD<<<<<<<<<<<<<<<<<<<<<<<<\n",
      "CATHERINE<<PERRY<<<<<<<<<<<<<<<<<<<<<<<\n",
      "KAREN<<GILES<<<<<<<<<<<<<<<<<<<<<<<<<<<\n",
      "ZACHARY<<GONZALEZ<<<<<<<<<<<<<<<<<<<<<<\n",
      "RYAN<<JACOBS<<<<<<<<<<<<<<<<<<<<<<<<<<<\n",
      "ETHAN<<RIVERA<<<<<<<<<<<<<<<<<<<<<<<<<<\n",
      "OLIVIA<<SHERMAN<<<<<<<<<<<<<<<<<<<<<<<<\n",
      "NICOLE<<YOUNG<<<<<<<<<<<<<<<<<<<<<<<<<<\n",
      "JOHN<<HALL<<<<<<<<<<<<<<<<<<<<<<<<<<<<<\n",
      "DONNA<<COLLINS<<<<<<<<<<<<<<<<<<<<<<<<<\n",
      "STEVEN<<MARTINEZ<<<<<<<<<<<<<<<<<<<<<<<\n",
      "MICHELE<<GREEN<<<<<<<<<<<<<<<<<<<<<<<<<\n",
      "CHRISTOPHER<<LEE<<<<<<<<<<<<<<<<<<<<<<<\n",
      "BARBARA<<ROMAN<<<<<<<<<<<<<<<<<<<<<<<<<\n",
      "BRITTANY<<CONRAD<<<<<<<<<<<<<<<<<<<<<<<\n",
      "BRIAN<<MCDONALD<<<<<<<<<<<<<<<<<<<<<<<<\n",
      "AARON<<CARROLL<<<<<<<<<<<<<<<<<<<<<<<<<\n",
      "DANIELLE<<BEASLEY<<<<<<<<<<<<<<<<<<<<<<\n",
      "AMANDA<<GUERRERO<DDS<<<<<<<<<<<<<<<<<<<\n",
      "KRISTA<<MARTINEZ<<<<<<<<<<<<<<<<<<<<<<<\n",
      "ANTHONY<<HAYDEN<<<<<<<<<<<<<<<<<<<<<<<<\n",
      "JACQUELINE<<DUNN<<<<<<<<<<<<<<<<<<<<<<<\n",
      "PAUL<<JOHNSON<<<<<<<<<<<<<<<<<<<<<<<<<<\n",
      "CHRISTOPHER<<LAMBERT<<<<<<<<<<<<<<<<<<<\n"
     ]
    }
   ],
   "source": [
    "#padding 39char\n",
    "#processed_names\n",
    "def process_names(names):\n",
    "    processed_names = []\n",
    "    for name in names:\n",
    "        parts = name.split()\n",
    "        if len(parts) > 1:\n",
    "            formatted_name = f\"{parts[0]}<<{'<'.join(parts[1:])}\"\n",
    "        else:\n",
    "            formatted_name = parts[0]\n",
    "        \n",
    "        # Đảm bảo độ dài đủ 39 ký tự\n",
    "        if len(formatted_name) < 39:\n",
    "            formatted_name = formatted_name.ljust(39, '<')\n",
    "        \n",
    "        processed_names.append(formatted_name)\n",
    "    return processed_names\n",
    "\n",
    "processed_names = process_names(names)\n",
    "\n",
    "# In kết quả ra màn hình\n",
    "for name in processed_names:\n",
    "    print(name)"
   ]
  },
  {
   "cell_type": "code",
   "execution_count": 16,
   "id": "943910c6",
   "metadata": {
    "scrolled": true
   },
   "outputs": [
    {
     "name": "stdout",
     "output_type": "stream",
     "text": [
      "PDARGA<<<<<<<<<<<<<<<<<<<<<<<<<<<<<<<<<<<<<<\n",
      "PPARGJUAN<<MARTINEZ<<<<<<<<<<<<<<<<<<<<<<<<<\n",
      "P<ARGKIMBERLY<<BLAKE<<<<<<<<<<<<<<<<<<<<<<<<\n",
      "P<ARGTHOMAS<<YODER<<<<<<<<<<<<<<<<<<<<<<<<<<\n",
      "PPARGMARY<<PAGE<<<<<<<<<<<<<<<<<<<<<<<<<<<<<\n",
      "P<ARGEMILY<<COHEN<<<<<<<<<<<<<<<<<<<<<<<<<<<\n",
      "P<ARGELIZABETH<<DEAN<<<<<<<<<<<<<<<<<<<<<<<<\n",
      "P<ARGCHRISTINE<<LANE<<<<<<<<<<<<<<<<<<<<<<<<\n",
      "PSARGMIRANDA<<MORALES<<<<<<<<<<<<<<<<<<<<<<<\n",
      "PPARGMARY<<FERNANDEZ<<<<<<<<<<<<<<<<<<<<<<<<\n",
      "P<ARGJOAN<<ANDERSON<<<<<<<<<<<<<<<<<<<<<<<<<\n",
      "P<ARGJOHN<<MANNING<<<<<<<<<<<<<<<<<<<<<<<<<<\n",
      "P<ARGLISA<<CANTU<<<<<<<<<<<<<<<<<<<<<<<<<<<<\n",
      "PXARGDIANA<<PORTER<<<<<<<<<<<<<<<<<<<<<<<<<<\n",
      "P<ARGROBERT<<SMITH<<<<<<<<<<<<<<<<<<<<<<<<<<\n",
      "P<ARGMARIA<<MURRAY<<<<<<<<<<<<<<<<<<<<<<<<<<\n",
      "P<ARGJENNIFER<<WADE<<<<<<<<<<<<<<<<<<<<<<<<<\n",
      "P<ARGMARY<<LOGAN<<<<<<<<<<<<<<<<<<<<<<<<<<<<\n",
      "P<ARGMARY<<MORRIS<<<<<<<<<<<<<<<<<<<<<<<<<<<\n",
      "P<ARGJENNIFER<<BURGESS<<<<<<<<<<<<<<<<<<<<<<\n",
      "P<ARGPATRICK<<RAMIREZ<<<<<<<<<<<<<<<<<<<<<<<\n",
      "PDARGJAMES<<SANCHEZ<<<<<<<<<<<<<<<<<<<<<<<<<\n",
      "P<ARGJIMMY<<DAVIS<<<<<<<<<<<<<<<<<<<<<<<<<<<\n",
      "P<ARGDEVIN<<MARTIN<<<<<<<<<<<<<<<<<<<<<<<<<<\n",
      "P<ARGAMY<<SAVAGE<<<<<<<<<<<<<<<<<<<<<<<<<<<<\n",
      "P<ARGTINA<<LOPEZ<<<<<<<<<<<<<<<<<<<<<<<<<<<<\n",
      "P<ARGJASON<<LYONS<<<<<<<<<<<<<<<<<<<<<<<<<<<\n",
      "P<ARGKAYLA<<HESS<<<<<<<<<<<<<<<<<<<<<<<<<<<<\n",
      "P<ARGSHANNON<<MCINTOSH<<<<<<<<<<<<<<<<<<<<<<\n",
      "P<ARGROBERT<<STOKES<<<<<<<<<<<<<<<<<<<<<<<<<\n",
      "P<ARGCASSANDRA<<WARREN<<<<<<<<<<<<<<<<<<<<<<\n",
      "P<ARGJENNIFER<<WALKER<<<<<<<<<<<<<<<<<<<<<<<\n",
      "P<ARGADAM<<HANSEN<<<<<<<<<<<<<<<<<<<<<<<<<<<\n",
      "P<ARGVIRGINIA<<HERNANDEZ<<<<<<<<<<<<<<<<<<<<\n",
      "P<ARGANDRE<<WILKINS<<<<<<<<<<<<<<<<<<<<<<<<<\n",
      "P<ARGBARBARA<<WILSON<<<<<<<<<<<<<<<<<<<<<<<<\n",
      "P<ARGTAMARA<<BURKE<<<<<<<<<<<<<<<<<<<<<<<<<<\n",
      "POARGROBERT<<WRIGHT<<<<<<<<<<<<<<<<<<<<<<<<<\n",
      "P<ARGJOSEPH<<GRAY<<<<<<<<<<<<<<<<<<<<<<<<<<<\n",
      "P<ARGDIANA<<WARD<<<<<<<<<<<<<<<<<<<<<<<<<<<<\n",
      "P<ARGKRISTINE<<RTIZ<<<<<<<<<<<<<<<<<<<<<<<<<\n",
      "P<ARGTIM<<HAAS<<<<<<<<<<<<<<<<<<<<<<<<<<<<<<\n",
      "PPARGJUSTIN<<LIVER<<<<<<<<<<<<<<<<<<<<<<<<<<\n",
      "P<ARGDAVID<<PAUL<<<<<<<<<<<<<<<<<<<<<<<<<<<<\n",
      "PPARGALEC<<BROWN<<<<<<<<<<<<<<<<<<<<<<<<<<<<\n",
      "P<ARGHANNAH<<CRUZ<DDS<<<<<<<<<<<<<<<<<<<<<<<\n",
      "P<ARGSUMMER<<WHITE<<<<<<<<<<<<<<<<<<<<<<<<<<\n",
      "P<ARGJOSEPH<<ESTES<<<<<<<<<<<<<<<<<<<<<<<<<<\n",
      "P<ARGJESSICA<<GREEN<<<<<<<<<<<<<<<<<<<<<<<<<\n",
      "PPARGSUSAN<<FRANKLIN<<<<<<<<<<<<<<<<<<<<<<<<\n",
      "PPARGJORDAN<<JIMENEZ<<<<<<<<<<<<<<<<<<<<<<<<\n",
      "P<ARGJACQUELINE<<MCINTYRE<<<<<<<<<<<<<<<<<<<\n",
      "P<ARGALLISON<<SMITH<<<<<<<<<<<<<<<<<<<<<<<<<\n",
      "P<ARGDEBORAH<<COOK<<<<<<<<<<<<<<<<<<<<<<<<<<\n",
      "P<ARGDANIELLE<<MARSHALL<<<<<<<<<<<<<<<<<<<<<\n",
      "P<ARGKATHERINE<<TYLER<<<<<<<<<<<<<<<<<<<<<<<\n",
      "P<ARGBRETT<<GONZALEZ<<<<<<<<<<<<<<<<<<<<<<<<\n",
      "P<ARGEMILY<<PAUL<<<<<<<<<<<<<<<<<<<<<<<<<<<<\n",
      "P<ARGDANIEL<<BRYANT<<<<<<<<<<<<<<<<<<<<<<<<<\n",
      "P<ARGDAVID<<PRESTON<<<<<<<<<<<<<<<<<<<<<<<<<\n",
      "P<ARGMATTHEW<<MOLINA<<<<<<<<<<<<<<<<<<<<<<<<\n",
      "P<ARGDAVID<<RICHARDSON<<<<<<<<<<<<<<<<<<<<<<\n",
      "PPARGCALEB<<BRYANT<<<<<<<<<<<<<<<<<<<<<<<<<<\n",
      "PXARGADAM<<CAMPOS<<<<<<<<<<<<<<<<<<<<<<<<<<<\n",
      "P<ARGTRACY<<HALL<<<<<<<<<<<<<<<<<<<<<<<<<<<<\n",
      "P<ARGSANDRA<<WEEKS<<<<<<<<<<<<<<<<<<<<<<<<<<\n",
      "POARGCAITLIN<<WALKER<<<<<<<<<<<<<<<<<<<<<<<<\n",
      "P<ARGMOLLY<<ELLIS<<<<<<<<<<<<<<<<<<<<<<<<<<<\n",
      "P<ARGSAMANTHA<<SWEENEY<<<<<<<<<<<<<<<<<<<<<<\n",
      "PPARGNINA<<KRAMER<<<<<<<<<<<<<<<<<<<<<<<<<<<\n",
      "P<ARGDREW<<CRUZ<<<<<<<<<<<<<<<<<<<<<<<<<<<<<\n",
      "P<ARGJASON<<HUTCHINSON<<<<<<<<<<<<<<<<<<<<<<\n",
      "P<ARGMARK<<RICHARDS<<<<<<<<<<<<<<<<<<<<<<<<<\n",
      "P<ARGSTEPHEN<<JONES<<<<<<<<<<<<<<<<<<<<<<<<<\n",
      "PPARGMARIA<<SHERMAN<<<<<<<<<<<<<<<<<<<<<<<<<\n",
      "P<ARGCHRISTINA<<MARTINEZ<<<<<<<<<<<<<<<<<<<<\n",
      "P<ARGEDGAR<<CRAWFORD<<<<<<<<<<<<<<<<<<<<<<<<\n",
      "PPARGCATHERINE<<PERRY<<<<<<<<<<<<<<<<<<<<<<<\n",
      "P<ARGKAREN<<GILES<<<<<<<<<<<<<<<<<<<<<<<<<<<\n",
      "P<ARGZACHARY<<GONZALEZ<<<<<<<<<<<<<<<<<<<<<<\n",
      "P<ARGRYAN<<JACOBS<<<<<<<<<<<<<<<<<<<<<<<<<<<\n",
      "P<ARGETHAN<<RIVERA<<<<<<<<<<<<<<<<<<<<<<<<<<\n",
      "P<ARGOLIVIA<<SHERMAN<<<<<<<<<<<<<<<<<<<<<<<<\n",
      "P<ARGNICOLE<<YOUNG<<<<<<<<<<<<<<<<<<<<<<<<<<\n",
      "P<ARGJOHN<<HALL<<<<<<<<<<<<<<<<<<<<<<<<<<<<<\n",
      "P<ARGDONNA<<COLLINS<<<<<<<<<<<<<<<<<<<<<<<<<\n",
      "P<ARGSTEVEN<<MARTINEZ<<<<<<<<<<<<<<<<<<<<<<<\n",
      "PSARGMICHELE<<GREEN<<<<<<<<<<<<<<<<<<<<<<<<<\n",
      "P<ARGCHRISTOPHER<<LEE<<<<<<<<<<<<<<<<<<<<<<<\n",
      "P<ARGBARBARA<<ROMAN<<<<<<<<<<<<<<<<<<<<<<<<<\n",
      "P<ARGBRITTANY<<CONRAD<<<<<<<<<<<<<<<<<<<<<<<\n",
      "P<ARGBRIAN<<MCDONALD<<<<<<<<<<<<<<<<<<<<<<<<\n",
      "P<ARGAARON<<CARROLL<<<<<<<<<<<<<<<<<<<<<<<<<\n",
      "P<ARGDANIELLE<<BEASLEY<<<<<<<<<<<<<<<<<<<<<<\n",
      "PPARGAMANDA<<GUERRERO<DDS<<<<<<<<<<<<<<<<<<<\n",
      "P<ARGKRISTA<<MARTINEZ<<<<<<<<<<<<<<<<<<<<<<<\n",
      "P<ARGANTHONY<<HAYDEN<<<<<<<<<<<<<<<<<<<<<<<<\n",
      "P<ARGJACQUELINE<<DUNN<<<<<<<<<<<<<<<<<<<<<<<\n",
      "P<ARGPAUL<<JOHNSON<<<<<<<<<<<<<<<<<<<<<<<<<<\n",
      "P<ARGCHRISTOPHER<<LAMBERT<<<<<<<<<<<<<<<<<<<\n"
     ]
    }
   ],
   "source": [
    "#Done line 1:\n",
    "line1=[]\n",
    "n = len(first)\n",
    "for i in range(n):\n",
    "    combined = first[i] + country[i] + processed_names[i]\n",
    "    line1.append(combined)\n",
    "\n",
    "for line in line1:\n",
    "    print(line)"
   ]
  },
  {
   "cell_type": "markdown",
   "id": "3e90db38",
   "metadata": {},
   "source": [
    "# Line 2"
   ]
  },
  {
   "cell_type": "markdown",
   "id": "a4e383c9",
   "metadata": {},
   "source": [
    "### 1-9"
   ]
  },
  {
   "cell_type": "code",
   "execution_count": 17,
   "id": "6b222695",
   "metadata": {},
   "outputs": [
    {
     "name": "stdout",
     "output_type": "stream",
     "text": [
      "['8AXCG', 'D33OK8K8', 'LBOTBD', 'GETIX5MUK', 'G8D1HLJ6P', 'BX39GH1M', '9TN8EPXAE', '998037954', '0642944', '0731259', '26606848', 'HFHAVCLUI', 'W5YJCVLTW', '0ZTON4WE', 'P6J3NFJ', 'EI80F8', 'BHZE8DDVX', 'FQDPEP8X8', 'TXRZ707JT', '706838312', '81952', '07944029', '55186', 'PUL2IU0NG', 'LNTZFEAE6', 'M9P4I3B6G', 'YE5CPAODH', '219970', '0211737', 'OYA4BJ35V', 'TP6RPB5Y9', '0V92736', '8891964', 'TEUARWN', 'T7NT9VVVH', 'MXDENYJX', '74ETPZ2', '38295', 'YK3UHDUTX', 'HVNJ82', '992735', 'CZCBMJ0', '3X21V9GV8', 'LBU0RLJH', '417979556', 'OPCL74DLX', '860415680', '22YTMU4L', 'CPWBRG', 'ZMQ0UZ1W3', 'VN6OZWJ8C', '7253598', 'S30WY8A', 'LD73CC0OM', 'Y6FQ0F7TU', '1CT7GH0LZ', '6379298', '23878', '64547', '4LG460', 'FIBPTM3Q', '71877832', 'Y7XZYNZFD', '35036203', 'CUM9Z', '54655', 'EBYN4YP6', '5QJ2JZC', '89583427', 'SYJ1KBD', '627975', 'DKW0J', '66Y4V3T17', 'A8B019', 'DT9BIS', '02ZIBA1BS', 'CDJUXSXZJ', '2125U', 'SXA3K8K02', 'PUWXN', '0TLFMSECP', '9EUWNMHBR', '12PFVW7M', '9046640', '9V0E06CBU', 'YKWGQ5A20', '779620253', '7DHG8MI7C', 'PN4V1A', '446394', '300461785', '8986207', 'FDLD2NB', '1RVBPKZ7Q', 'RG5J6TX6', 'VKCTSLUY', 'N380ZR4', 'VLA57', '9NTN1OS6', '04439744']\n"
     ]
    }
   ],
   "source": [
    "#passport number\n",
    "import random\n",
    "import string\n",
    "\n",
    "def generate_random_code(length, only_digits=False):\n",
    "    if only_digits:\n",
    "        characters = string.digits\n",
    "    else:\n",
    "        characters = string.digits + string.ascii_uppercase\n",
    "\n",
    "    return ''.join(random.choice(characters) for _ in range(length))\n",
    "\n",
    "def generate_samples():\n",
    "    samples = []\n",
    "\n",
    "    # 5-9 ký tự full num(30 sample)\n",
    "    for _ in range(30):\n",
    "        length = random.randint(5, 9)\n",
    "        samples.append(generate_random_code(length=length, only_digits=True))\n",
    "    \n",
    "    # full 9 ký tự num+letter (30 sample)\n",
    "    for _ in range(30):\n",
    "        samples.append(generate_random_code(length=9))\n",
    "    \n",
    "    # 5-9 ký tự num+letter (30 sample)\n",
    "    for _ in range(40):\n",
    "        length = random.randint(5, 9)\n",
    "        samples.append(generate_random_code(length=length))\n",
    "    \n",
    "    # Xáo trộn danh sách mẫu\n",
    "    random.shuffle(samples)\n",
    "    return samples\n",
    "\n",
    "num_pp = generate_samples()\n",
    "print(num_pp)"
   ]
  },
  {
   "cell_type": "code",
   "execution_count": 18,
   "id": "4bf5ea10",
   "metadata": {},
   "outputs": [
    {
     "name": "stdout",
     "output_type": "stream",
     "text": [
      "['8AXCG<<<<', 'D33OK8K8<', 'LBOTBD<<<', 'GETIX5MUK', 'G8D1HLJ6P', 'BX39GH1M<', '9TN8EPXAE', '998037954', '0642944<<', '0731259<<', '26606848<', 'HFHAVCLUI', 'W5YJCVLTW', '0ZTON4WE<', 'P6J3NFJ<<', 'EI80F8<<<', 'BHZE8DDVX', 'FQDPEP8X8', 'TXRZ707JT', '706838312', '81952<<<<', '07944029<', '55186<<<<', 'PUL2IU0NG', 'LNTZFEAE6', 'M9P4I3B6G', 'YE5CPAODH', '219970<<<', '0211737<<', 'OYA4BJ35V', 'TP6RPB5Y9', '0V92736<<', '8891964<<', 'TEUARWN<<', 'T7NT9VVVH', 'MXDENYJX<', '74ETPZ2<<', '38295<<<<', 'YK3UHDUTX', 'HVNJ82<<<', '992735<<<', 'CZCBMJ0<<', '3X21V9GV8', 'LBU0RLJH<', '417979556', 'OPCL74DLX', '860415680', '22YTMU4L<', 'CPWBRG<<<', 'ZMQ0UZ1W3', 'VN6OZWJ8C', '7253598<<', 'S30WY8A<<', 'LD73CC0OM', 'Y6FQ0F7TU', '1CT7GH0LZ', '6379298<<', '23878<<<<', '64547<<<<', '4LG460<<<', 'FIBPTM3Q<', '71877832<', 'Y7XZYNZFD', '35036203<', 'CUM9Z<<<<', '54655<<<<', 'EBYN4YP6<', '5QJ2JZC<<', '89583427<', 'SYJ1KBD<<', '627975<<<', 'DKW0J<<<<', '66Y4V3T17', 'A8B019<<<', 'DT9BIS<<<', '02ZIBA1BS', 'CDJUXSXZJ', '2125U<<<<', 'SXA3K8K02', 'PUWXN<<<<', '0TLFMSECP', '9EUWNMHBR', '12PFVW7M<', '9046640<<', '9V0E06CBU', 'YKWGQ5A20', '779620253', '7DHG8MI7C', 'PN4V1A<<<', '446394<<<', '300461785', '8986207<<', 'FDLD2NB<<', '1RVBPKZ7Q', 'RG5J6TX6<', 'VKCTSLUY<', 'N380ZR4<<', 'VLA57<<<<', '9NTN1OS6<', '04439744<']\n"
     ]
    }
   ],
   "source": [
    "#padding 9char\n",
    "#updated_num_pp\n",
    "def process_num_pp(char_list):\n",
    "    nine_char_num_pp= []\n",
    "    for s in char_list:\n",
    "        if len(s) < 9:\n",
    "            s = s.ljust(9, '<')\n",
    "        nine_char_num_pp.append(s)\n",
    "    return nine_char_num_pp\n",
    "updated_num_pp = process_num_pp(num_pp)\n",
    "\n",
    "print(updated_num_pp)\n"
   ]
  },
  {
   "cell_type": "markdown",
   "id": "48996fee",
   "metadata": {},
   "source": [
    "### 10"
   ]
  },
  {
   "cell_type": "code",
   "execution_count": 19,
   "id": "526f8650",
   "metadata": {},
   "outputs": [
    {
     "name": "stdout",
     "output_type": "stream",
     "text": [
      "[1, 3, 3, 7, 4, 0, 1, 6, 5, 5, 6, 1, 9, 1, 0, 3, 5, 1, 0, 4, 9, 1, 5, 9, 7, 2, 8, 0, 7, 7, 5, 2, 7, 9, 5, 9, 2, 5, 5, 4, 5, 3, 4, 6, 7, 4, 6, 4, 5, 8, 6, 1, 9, 6, 4, 4, 2, 4, 8, 3, 3, 5, 5, 6, 4, 3, 5, 2, 2, 6, 4, 0, 1, 7, 6, 8, 4, 4, 6, 7, 6, 9, 3, 1, 7, 1, 9, 2, 8, 8, 6, 8, 2, 3, 1, 9, 8, 6, 3, 1]\n"
     ]
    }
   ],
   "source": [
    "# check digit of passport number \n",
    "# check_digit_num_pp\n",
    "def char_to_value(c):\n",
    "    if '0' <= c <= '9':\n",
    "        return int(c)\n",
    "    elif 'A' <= c <= 'Z':\n",
    "        return ord(c) - ord('A') + 10 #lấy ord vị trí\n",
    "\n",
    "def calculate_remainder(s):\n",
    "    factors = [7, 3, 1]\n",
    "    total = 0\n",
    "    for i, c in enumerate(s):\n",
    "        value = char_to_value(c)\n",
    "        factor = factors[i % len(factors)]\n",
    "        total += value * factor\n",
    "    return total % 10\n",
    "\n",
    "check_digit_num_pp = [calculate_remainder(s) for s in num_pp]\n",
    "\n",
    "print(check_digit_num_pp)"
   ]
  },
  {
   "cell_type": "markdown",
   "id": "abfc23d1",
   "metadata": {},
   "source": [
    "### 11-13\n",
    "lấy list country ở trên"
   ]
  },
  {
   "cell_type": "markdown",
   "id": "c530a593",
   "metadata": {},
   "source": [
    "### 14-19"
   ]
  },
  {
   "cell_type": "code",
   "execution_count": 20,
   "id": "02139568",
   "metadata": {
    "scrolled": true
   },
   "outputs": [
    {
     "name": "stdout",
     "output_type": "stream",
     "text": [
      "780414\n",
      "780616\n",
      "840827\n",
      "720401\n",
      "641111\n",
      "661016\n",
      "660320\n",
      "781016\n",
      "851123\n",
      "890212\n",
      "971119\n",
      "890208\n",
      "051024\n",
      "851024\n",
      "010923\n",
      "970619\n",
      "870216\n",
      "750716\n",
      "960106\n",
      "990719\n",
      "851230\n",
      "980305\n",
      "980422\n",
      "800623\n",
      "630818\n",
      "870314\n",
      "820926\n",
      "020731\n",
      "950217\n",
      "910421\n",
      "030915\n",
      "750902\n",
      "720127\n",
      "641214\n",
      "630720\n",
      "680804\n",
      "740813\n",
      "910331\n",
      "860412\n",
      "740221\n",
      "730913\n",
      "660126\n",
      "030616\n",
      "670913\n",
      "831216\n",
      "051202\n",
      "711015\n",
      "941126\n",
      "911020\n",
      "780525\n",
      "840811\n",
      "020123\n",
      "750907\n",
      "710126\n",
      "721212\n",
      "670408\n",
      "971213\n",
      "910917\n",
      "880402\n",
      "990109\n",
      "730304\n",
      "001004\n",
      "631129\n",
      "940414\n",
      "661030\n",
      "721221\n",
      "020916\n",
      "640805\n",
      "630426\n",
      "811207\n",
      "810106\n",
      "880213\n",
      "890203\n",
      "701129\n",
      "720307\n",
      "891015\n",
      "860809\n",
      "720510\n",
      "810813\n",
      "750326\n",
      "750926\n",
      "830715\n",
      "810610\n",
      "900920\n",
      "680717\n",
      "750414\n",
      "001013\n",
      "730704\n",
      "750407\n",
      "840318\n",
      "710419\n",
      "651001\n",
      "970920\n",
      "810219\n",
      "041124\n",
      "021017\n",
      "651227\n",
      "880613\n",
      "730210\n",
      "770224\n"
     ]
    }
   ],
   "source": [
    "#YYMMDD\n",
    "#dates\n",
    "import random\n",
    "\n",
    "def generate_random_dates(num_samples, start_year, end_year):\n",
    "    dates = []\n",
    "    \n",
    "    for _ in range(num_samples):\n",
    "        year = random.randint(start_year, end_year)\n",
    "        month = random.randint(1, 12)\n",
    "        day = random.randint(1, 28) if month == 2 else random.randint(1, 30) if month in [4, 6, 9, 11] else random.randint(1, 31)\n",
    "        \n",
    "        # Convert to YYMMDD format\n",
    "        yy = str(year)[-2:]\n",
    "        mm = f\"{month:02d}\"\n",
    "        dd = f\"{day:02d}\"\n",
    "        \n",
    "        date = yy + mm + dd\n",
    "        dates.append(date)\n",
    "    \n",
    "    return dates\n",
    "\n",
    "dates = generate_random_dates(100, 1963, 2005)\n",
    "\n",
    "for date in dates:\n",
    "    print(date)\n"
   ]
  },
  {
   "cell_type": "markdown",
   "id": "13ae7883",
   "metadata": {},
   "source": [
    "### 20"
   ]
  },
  {
   "cell_type": "code",
   "execution_count": 21,
   "id": "f8460c6a",
   "metadata": {},
   "outputs": [
    {
     "name": "stdout",
     "output_type": "stream",
     "text": [
      "[8, 4, 7, 4, 6, 0, 7, 3, 8, 2, 4, 5, 6, 2, 5, 8, 0, 2, 4, 1, 5, 3, 3, 7, 8, 5, 7, 5, 2, 1, 0, 9, 5, 6, 6, 6, 3, 7, 7, 2, 7, 9, 0, 2, 9, 2, 1, 5, 3, 9, 8, 2, 4, 1, 5, 9, 5, 9, 0, 6, 3, 5, 4, 0, 0, 7, 8, 5, 1, 1, 2, 0, 0, 2, 3, 2, 9, 3, 1, 7, 9, 2, 4, 2, 5, 9, 7, 1, 9, 0, 2, 9, 3, 5, 0, 7, 5, 8, 5, 4]\n"
     ]
    }
   ],
   "source": [
    "# check digit of birthday \n",
    "# check_digit_dates\n",
    "def calculate_date(s):\n",
    "    factors = [7, 3, 1]\n",
    "    total = 0\n",
    "    for i, c in enumerate(s):\n",
    "        value = int(c)\n",
    "        factor = factors[i % len(factors)]\n",
    "        total += value * factor\n",
    "    return total % 10\n",
    "check_digit_dates = [calculate_date(date) for date in dates]\n",
    "print(check_digit_dates)"
   ]
  },
  {
   "cell_type": "markdown",
   "id": "abea9b2b",
   "metadata": {},
   "source": [
    "### 21"
   ]
  },
  {
   "cell_type": "code",
   "execution_count": 22,
   "id": "c511a19d",
   "metadata": {},
   "outputs": [
    {
     "name": "stdout",
     "output_type": "stream",
     "text": [
      "['F', 'M', 'M', 'M', 'M', 'F', 'M', 'F', 'M', 'M', 'M', 'M', 'M', 'M', 'M', '<', 'M', 'F', '<', 'F', 'F', 'F', 'M', 'M', 'F', 'M', 'F', 'F', 'F', 'F', 'F', 'M', 'F', 'F', 'M', 'M', 'F', 'F', 'F', 'M', '<', 'M', 'F', 'F', 'F', 'M', 'M', 'M', 'M', 'F', 'F', '<', 'F', 'M', 'M', 'M', 'F', '<', 'M', 'M', 'M', 'F', 'F', 'M', 'M', 'F', '<', 'F', 'F', 'M', 'F', 'M', 'F', '<', 'F', 'M', 'F', 'F', 'M', '<', 'M', 'F', 'F', 'F', 'F', 'M', 'F', 'F', 'F', 'M', 'F', 'M', 'F', 'M', '<', 'M', 'M', 'M', 'F', '<']\n"
     ]
    }
   ],
   "source": [
    "#sex\n",
    "import random\n",
    "sex = [\"F\"] * 45 + [\"M\"] * 45 + [\"<\"] * 10\n",
    "random.shuffle(sex)\n",
    "print(sex)"
   ]
  },
  {
   "cell_type": "markdown",
   "id": "5e45dbbe",
   "metadata": {},
   "source": [
    "### 22-27"
   ]
  },
  {
   "cell_type": "code",
   "execution_count": 23,
   "id": "3ca65a0f",
   "metadata": {
    "scrolled": true
   },
   "outputs": [
    {
     "name": "stdout",
     "output_type": "stream",
     "text": [
      "150402\n",
      "311229\n",
      "240204\n",
      "360728\n",
      "411110\n",
      "360730\n",
      "181204\n",
      "320117\n",
      "110228\n",
      "940214\n",
      "430127\n",
      "100516\n",
      "010525\n",
      "050225\n",
      "320129\n",
      "271130\n",
      "290309\n",
      "420805\n",
      "480215\n",
      "940610\n",
      "440413\n",
      "901116\n",
      "200904\n",
      "240805\n",
      "090220\n",
      "410801\n",
      "010923\n",
      "030815\n",
      "150109\n",
      "931028\n",
      "061026\n",
      "490408\n",
      "121006\n",
      "940725\n",
      "980131\n",
      "480927\n",
      "380917\n",
      "371220\n",
      "450415\n",
      "140319\n",
      "990117\n",
      "981129\n",
      "410105\n",
      "470807\n",
      "360917\n",
      "340607\n",
      "420712\n",
      "180204\n",
      "200624\n",
      "420217\n",
      "921231\n",
      "040531\n",
      "980917\n",
      "951023\n",
      "140725\n",
      "010507\n",
      "420112\n",
      "340327\n",
      "211119\n",
      "191211\n",
      "361222\n",
      "180429\n",
      "930112\n",
      "500407\n",
      "090205\n",
      "160315\n",
      "260602\n",
      "171014\n",
      "110429\n",
      "941009\n",
      "020509\n",
      "290417\n",
      "460622\n",
      "270723\n",
      "130523\n",
      "950819\n",
      "450610\n",
      "390514\n",
      "440408\n",
      "940711\n",
      "370628\n",
      "380111\n",
      "480211\n",
      "120125\n",
      "041020\n",
      "490524\n",
      "940920\n",
      "470822\n",
      "430511\n",
      "970506\n",
      "920204\n",
      "210904\n",
      "230812\n",
      "490515\n",
      "991213\n",
      "330815\n",
      "920914\n",
      "260628\n",
      "920922\n",
      "950424\n"
     ]
    }
   ],
   "source": [
    "#YYMMDD Expiration date of passport\n",
    "#expiration_dates\n",
    "import random\n",
    "\n",
    "def generate_random_dates(num_samples, start_year, end_year):\n",
    "    expiration_dates = []\n",
    "    \n",
    "    for _ in range(num_samples):\n",
    "        year = random.randint(start_year, end_year)\n",
    "        month = random.randint(1, 12)\n",
    "        day = random.randint(1, 28) if month == 2 else random.randint(1, 30) if month in [4, 6, 9, 11] else random.randint(1, 31)\n",
    "        \n",
    "        # Convert to YYMMDD format\n",
    "        yy = str(year)[-2:]\n",
    "        mm = f\"{month:02d}\"\n",
    "        dd = f\"{day:02d}\"\n",
    "        \n",
    "        date = yy + mm + dd\n",
    "        expiration_dates.append(date)\n",
    "    \n",
    "    return expiration_dates\n",
    "\n",
    "# Generate 100 random expiration dates between 1963 and 2005\n",
    "expiration_dates = generate_random_dates(100, 1990, 2050)\n",
    "\n",
    "# Print the random expiration dates\n",
    "for date in expiration_dates:\n",
    "    print(date)\n"
   ]
  },
  {
   "cell_type": "markdown",
   "id": "8827ef16",
   "metadata": {},
   "source": [
    "### 28"
   ]
  },
  {
   "cell_type": "code",
   "execution_count": 24,
   "id": "f08af95d",
   "metadata": {},
   "outputs": [
    {
     "name": "stdout",
     "output_type": "stream",
     "text": [
      "[2, 4, 4, 2, 2, 7, 0, 4, 8, 6, 7, 1, 9, 0, 9, 2, 1, 5, 4, 0, 4, 0, 1, 7, 7, 8, 5, 3, 8, 7, 1, 1, 0, 5, 4, 8, 8, 3, 9, 2, 7, 0, 3, 2, 2, 2, 8, 9, 6, 8, 4, 7, 0, 8, 9, 5, 6, 7, 7, 3, 2, 4, 4, 0, 6, 4, 6, 6, 3, 5, 0, 9, 6, 3, 0, 6, 8, 0, 6, 8, 8, 6, 0, 1, 9, 0, 4, 3, 6, 5, 7, 4, 4, 8, 1, 4, 9, 8, 0, 6]\n"
     ]
    }
   ],
   "source": [
    "# check digit of expiration dates \n",
    "# check_digit_expiration_dates\n",
    "def calculate_date(s):\n",
    "    factors = [7, 3, 1]\n",
    "    total = 0\n",
    "    for i, c in enumerate(s):\n",
    "        value = int(c)\n",
    "        factor = factors[i % len(factors)]\n",
    "        total += value * factor\n",
    "    return total % 10\n",
    "check_digit_expiration_dates = [calculate_date(date) for date in expiration_dates]\n",
    "print(check_digit_expiration_dates)"
   ]
  },
  {
   "cell_type": "markdown",
   "id": "dd8b7303",
   "metadata": {},
   "source": [
    "### 29-42"
   ]
  },
  {
   "cell_type": "code",
   "execution_count": 25,
   "id": "ac2a15a1",
   "metadata": {
    "scrolled": true
   },
   "outputs": [
    {
     "name": "stdout",
     "output_type": "stream",
     "text": [
      "437961<<<<<<<<\n",
      "921365<<<<<<<<\n",
      "7627702<<<<<<<\n",
      "<<<<<<<<<<<<<<\n",
      "NCHP6D<<<<<<<<\n",
      "<<<<<<<<<<<<<<\n",
      "<<<<<<<<<<<<<<\n",
      "9045342<<<<<<<\n",
      "QVEZWEEE2<<<<<\n",
      "71624459<<<<<<\n",
      "6368457<<<<<<<\n",
      "963167<<<<<<<<\n",
      "ZDIWX0<<<<<<<<\n",
      "<<<<<<<<<<<<<<\n",
      "3KSWLZ<<<<<<<<\n",
      "06JJWFIV9<<<<<\n",
      "6TE7RFO10<<<<<\n",
      "RWXG2PPC4<<<<<\n",
      "UFC8OQF<<<<<<<\n",
      "<<<<<<<<<<<<<<\n",
      "<<<<<<<<<<<<<<\n",
      "1GKO0VAAC<<<<<\n",
      "USXETBDCC<<<<<\n",
      "61456<<<<<<<<<\n",
      "74312<<<<<<<<<\n",
      "6B3G1WU<<<<<<<\n",
      "81706<<<<<<<<<\n",
      "<<<<<<<<<<<<<<\n",
      "4270974326<<<<\n",
      "416519678<<<<<\n",
      "DD2MYM0D0<<<<<\n",
      "54ZA3R<<<<<<<<\n",
      "6498455<<<<<<<\n",
      "<<<<<<<<<<<<<<\n",
      "JB9AR<<<<<<<<<\n",
      "<<<<<<<<<<<<<<\n",
      "BL8EFVJL4<<<<<\n",
      "00383<<<<<<<<<\n",
      "5NBNGHNQP<<<<<\n",
      "<<<<<<<<<<<<<<\n",
      "143852885<<<<<\n",
      "CZAEN<<<<<<<<<\n",
      "R4RWBE2N<<<<<<\n",
      "JDB32IOPL<<<<<\n",
      "13182<<<<<<<<<\n",
      "<<<<<<<<<<<<<<\n",
      "22096556<<<<<<\n",
      "<<<<<<<<<<<<<<\n",
      "<<<<<<<<<<<<<<\n",
      "1948<<<<<<<<<<\n",
      "<<<<<<<<<<<<<<\n",
      "0083295<<<<<<<\n",
      "D95GB4WV<<<<<<\n",
      "0883<<<<<<<<<<\n",
      "2865851<<<<<<<\n",
      "<<<<<<<<<<<<<<\n",
      "8911<<<<<<<<<<\n",
      "<<<<<<<<<<<<<<\n",
      "207602560<<<<<\n",
      "<<<<<<<<<<<<<<\n",
      "988962735<<<<<\n",
      "1LTH4<<<<<<<<<\n",
      "6834<<<<<<<<<<\n",
      "18216284<<<<<<\n",
      "8NI7O<<<<<<<<<\n",
      "44TA135H<<<<<<\n",
      "2074911<<<<<<<\n",
      "2793797532<<<<\n",
      "W3CZ7<<<<<<<<<\n",
      "<<<<<<<<<<<<<<\n",
      "205123372<<<<<\n",
      "52JMSD8<<<<<<<\n",
      "GQ45U1NBF<<<<<\n",
      "57040143<<<<<<\n",
      "8353229<<<<<<<\n",
      "V6012TT<<<<<<<\n",
      "2744711556<<<<\n",
      "MDYK6MZCW<<<<<\n",
      "<<<<<<<<<<<<<<\n",
      "01640<<<<<<<<<\n",
      "042522<<<<<<<<\n",
      "775711497<<<<<\n",
      "7413<<<<<<<<<<\n",
      "4NNRSN<<<<<<<<\n",
      "MHDDSZE<<<<<<<\n",
      "5323701<<<<<<<\n",
      "FJ5IB0<<<<<<<<\n",
      "908090665<<<<<\n",
      "XVSJEIUR<<<<<<\n",
      "5WXXS<<<<<<<<<\n",
      "WHLRUUM3<<<<<<\n",
      "7042450<<<<<<<\n",
      "E3YL3DH<<<<<<<\n",
      "EDIP2V<<<<<<<<\n",
      "50517<<<<<<<<<\n",
      "<<<<<<<<<<<<<<\n",
      "6W7FZLNK<<<<<<\n",
      "H32X7<<<<<<<<<\n",
      "6SXYZ6HW<<<<<<\n",
      "XZXUKPJ<<<<<<<\n"
     ]
    }
   ],
   "source": [
    "#14 char Personal number \n",
    "#personal_numbers\n",
    "import random\n",
    "import string\n",
    "\n",
    "def generate_numeric_sample():\n",
    "    length = random.randint(4, 10)\n",
    "    random_numbers = [str(random.randint(0, 9)) for _ in range(length)]\n",
    "    return ''.join(random_numbers).ljust(14, '<')\n",
    "\n",
    "def generate_alphanumeric_sample():\n",
    "    length = random.randint(5, 9)\n",
    "    characters = string.ascii_uppercase + string.digits  \n",
    "    random_chars = [random.choice(characters) for _ in range(length)]\n",
    "    return ''.join(random_chars).ljust(14, '<')\n",
    "\n",
    "def generate_samples():\n",
    "    samples = ['<' * 14 for _ in range(20)]\n",
    "    numeric_samples = [generate_numeric_sample() for _ in range(40)]\n",
    "    alphanumeric_samples = [generate_alphanumeric_sample() for _ in range(40)]\n",
    "    \n",
    "    samples.extend(numeric_samples)\n",
    "    samples.extend(alphanumeric_samples)\n",
    "    \n",
    "    random.shuffle(samples)\n",
    "    return samples\n",
    "\n",
    "personal_numbers = generate_samples()\n",
    "for sample in personal_numbers:\n",
    "    print(sample)"
   ]
  },
  {
   "cell_type": "markdown",
   "id": "138774a6",
   "metadata": {},
   "source": [
    "### 43"
   ]
  },
  {
   "cell_type": "code",
   "execution_count": 26,
   "id": "7679b3c9",
   "metadata": {},
   "outputs": [
    {
     "name": "stdout",
     "output_type": "stream",
     "text": [
      "[6, 4, 3, 0, 0, 0, 0, 9, 6, 0, 9, 6, 5, 0, 1, 9, 9, 6, 6, 0, 0, 6, 2, 2, 7, 5, 4, 0, 6, 5, 9, 8, 1, 0, 6, 0, 2, 8, 5, 0, 0, 6, 2, 2, 9, 0, 9, 0, 0, 4, 0, 9, 9, 3, 5, 0, 1, 0, 8, 0, 1, 0, 7, 8, 4, 1, 4, 6, 1, 0, 9, 7, 9, 2, 2, 0, 8, 0, 0, 7, 7, 0, 3, 6, 6, 5, 6, 3, 6, 9, 8, 4, 9, 7, 8, 0, 7, 2, 3, 7]\n"
     ]
    }
   ],
   "source": [
    "# check digit of personal number \n",
    "# check_digit_personal_numbers\n",
    "def char_to_value(c):\n",
    "    if '0' <= c <= '9':\n",
    "        return int(c)\n",
    "    elif 'A' <= c <= 'Z':\n",
    "        return ord(c) - ord('A') + 10 #lấy ord vị trí\n",
    "    elif c == '<':\n",
    "        return 0\n",
    "\n",
    "def calculate_check_digit(s):\n",
    "    factors = [7, 3, 1]\n",
    "    total = 0\n",
    "    \n",
    "    for i, c in enumerate(s):\n",
    "        value = char_to_value(c)\n",
    "        factor = factors[i % len(factors)]\n",
    "        total += value * factor\n",
    "    \n",
    "    return total % 10\n",
    "\n",
    "\n",
    "check_digit_personal_numbers = [calculate_check_digit(number) for number in personal_numbers]\n",
    "\n",
    "print(check_digit_personal_numbers)\n"
   ]
  },
  {
   "cell_type": "code",
   "execution_count": 27,
   "id": "e7d9c056",
   "metadata": {
    "scrolled": true
   },
   "outputs": [
    {
     "name": "stdout",
     "output_type": "stream",
     "text": [
      "8AXCG<<<<1ARG7804148F1504022437961<<<<<<<<6\n",
      "D33OK8K8<3ARG7806164M3112294921365<<<<<<<<4\n",
      "LBOTBD<<<3ARG8408277M24020447627702<<<<<<<3\n",
      "GETIX5MUK7ARG7204014M3607282<<<<<<<<<<<<<<0\n",
      "G8D1HLJ6P4ARG6411116M4111102NCHP6D<<<<<<<<0\n",
      "BX39GH1M<0ARG6610160F3607307<<<<<<<<<<<<<<0\n",
      "9TN8EPXAE1ARG6603207M1812040<<<<<<<<<<<<<<0\n",
      "9980379546ARG7810163F32011749045342<<<<<<<9\n",
      "0642944<<5ARG8511238M1102288QVEZWEEE2<<<<<6\n",
      "0731259<<5ARG8902122M940214671624459<<<<<<0\n",
      "26606848<6ARG9711194M43012776368457<<<<<<<9\n",
      "HFHAVCLUI1ARG8902085M1005161963167<<<<<<<<6\n",
      "W5YJCVLTW9ARG0510246M0105259ZDIWX0<<<<<<<<5\n",
      "0ZTON4WE<1ARG8510242M0502250<<<<<<<<<<<<<<0\n",
      "P6J3NFJ<<0ARG0109235M32012993KSWLZ<<<<<<<<1\n",
      "EI80F8<<<3ARG9706198<271130206JJWFIV9<<<<<9\n",
      "BHZE8DDVX5ARG8702160M29030916TE7RFO10<<<<<9\n",
      "FQDPEP8X81ARG7507162F4208055RWXG2PPC4<<<<<6\n",
      "TXRZ707JT0ARG9601064<4802154UFC8OQF<<<<<<<6\n",
      "7068383124ARG9907191F9406100<<<<<<<<<<<<<<0\n",
      "81952<<<<9ARG8512305F4404134<<<<<<<<<<<<<<0\n",
      "07944029<1ARG9803053F90111601GKO0VAAC<<<<<6\n",
      "55186<<<<5ARG9804223M2009041USXETBDCC<<<<<2\n",
      "PUL2IU0NG9ARG8006237M240805761456<<<<<<<<<2\n",
      "LNTZFEAE67ARG6308188F090220774312<<<<<<<<<7\n",
      "M9P4I3B6G2ARG8703145M41080186B3G1WU<<<<<<<5\n",
      "YE5CPAODH8ARG8209267F010923581706<<<<<<<<<4\n",
      "219970<<<0ARG0207315F0308153<<<<<<<<<<<<<<0\n",
      "0211737<<7ARG9502172F15010984270974326<<<<6\n",
      "OYA4BJ35V7ARG9104211F9310287416519678<<<<<5\n",
      "TP6RPB5Y95ARG0309150F0610261DD2MYM0D0<<<<<9\n",
      "0V92736<<2ARG7509029M490408154ZA3R<<<<<<<<8\n",
      "8891964<<7ARG7201275F12100606498455<<<<<<<1\n",
      "TEUARWN<<9ARG6412146F9407255<<<<<<<<<<<<<<0\n",
      "T7NT9VVVH5ARG6307206M9801314JB9AR<<<<<<<<<6\n",
      "MXDENYJX<9ARG6808046M4809278<<<<<<<<<<<<<<0\n",
      "74ETPZ2<<2ARG7408133F3809178BL8EFVJL4<<<<<2\n",
      "38295<<<<5ARG9103317F371220300383<<<<<<<<<8\n",
      "YK3UHDUTX5ARG8604127F45041595NBNGHNQP<<<<<5\n",
      "HVNJ82<<<4ARG7402212M1403192<<<<<<<<<<<<<<0\n",
      "992735<<<5ARG7309137<9901177143852885<<<<<0\n",
      "CZCBMJ0<<3ARG6601269M9811290CZAEN<<<<<<<<<6\n",
      "3X21V9GV84ARG0306160F4101053R4RWBE2N<<<<<<2\n",
      "LBU0RLJH<6ARG6709132F4708072JDB32IOPL<<<<<2\n",
      "4179795567ARG8312169F360917213182<<<<<<<<<9\n",
      "OPCL74DLX4ARG0512022M3406072<<<<<<<<<<<<<<0\n",
      "8604156806ARG7110151M420712822096556<<<<<<9\n",
      "22YTMU4L<4ARG9411265M1802049<<<<<<<<<<<<<<0\n",
      "CPWBRG<<<5ARG9110203M2006246<<<<<<<<<<<<<<0\n",
      "ZMQ0UZ1W38ARG7805259F42021781948<<<<<<<<<<4\n",
      "VN6OZWJ8C6ARG8408118F9212314<<<<<<<<<<<<<<0\n",
      "7253598<<1ARG0201232<04053170083295<<<<<<<9\n",
      "S30WY8A<<9ARG7509074F9809170D95GB4WV<<<<<<9\n",
      "LD73CC0OM6ARG7101261M95102380883<<<<<<<<<<3\n",
      "Y6FQ0F7TU4ARG7212125M14072592865851<<<<<<<5\n",
      "1CT7GH0LZ4ARG6704089M0105075<<<<<<<<<<<<<<0\n",
      "6379298<<2ARG9712135F42011268911<<<<<<<<<<1\n",
      "23878<<<<4ARG9109179<3403277<<<<<<<<<<<<<<0\n",
      "64547<<<<8ARG8804020M2111197207602560<<<<<8\n",
      "4LG460<<<3ARG9901096M1912113<<<<<<<<<<<<<<0\n",
      "FIBPTM3Q<3ARG7303043M3612222988962735<<<<<1\n",
      "71877832<5ARG0010045F18042941LTH4<<<<<<<<<0\n",
      "Y7XZYNZFD5ARG6311294F93011246834<<<<<<<<<<7\n",
      "35036203<6ARG9404140M500407018216284<<<<<<8\n",
      "CUM9Z<<<<4ARG6610300M09020568NI7O<<<<<<<<<4\n",
      "54655<<<<3ARG7212217F160315444TA135H<<<<<<1\n",
      "EBYN4YP6<5ARG0209168<26060262074911<<<<<<<4\n",
      "5QJ2JZC<<2ARG6408055F17101462793797532<<<<6\n",
      "89583427<2ARG6304261F1104293W3CZ7<<<<<<<<<1\n",
      "SYJ1KBD<<6ARG8112071M9410095<<<<<<<<<<<<<<0\n",
      "627975<<<4ARG8101062F0205090205123372<<<<<9\n",
      "DKW0J<<<<0ARG8802130M290417952JMSD8<<<<<<<7\n",
      "66Y4V3T171ARG8902030F4606226GQ45U1NBF<<<<<9\n",
      "A8B019<<<7ARG7011292<270723357040143<<<<<<2\n",
      "DT9BIS<<<6ARG7203073F13052308353229<<<<<<<2\n",
      "02ZIBA1BS8ARG8910152M9508196V6012TT<<<<<<<0\n",
      "CDJUXSXZJ4ARG8608099F45061082744711556<<<<8\n",
      "2125U<<<<4ARG7205103F3905140MDYK6MZCW<<<<<0\n",
      "SXA3K8K026ARG8108131M4404086<<<<<<<<<<<<<<0\n",
      "PUWXN<<<<7ARG7503267<940711801640<<<<<<<<<7\n",
      "0TLFMSECP6ARG7509269M3706288042522<<<<<<<<7\n",
      "9EUWNMHBR9ARG8307152F3801116775711497<<<<<0\n",
      "12PFVW7M<3ARG8106104F48021107413<<<<<<<<<<3\n",
      "9046640<<1ARG9009202F12012514NNRSN<<<<<<<<6\n",
      "9V0E06CBU7ARG6807175F0410209MHDDSZE<<<<<<<6\n",
      "YKWGQ5A201ARG7504149M49052405323701<<<<<<<5\n",
      "7796202539ARG0010137F9409204FJ5IB0<<<<<<<<6\n",
      "7DHG8MI7C2ARG7307041F4708223908090665<<<<<3\n",
      "PN4V1A<<<8ARG7504079F4305116XVSJEIUR<<<<<<6\n",
      "446394<<<8ARG8403180M97050655WXXS<<<<<<<<<9\n",
      "3004617856ARG7104192F9202047WHLRUUM3<<<<<<8\n",
      "8986207<<8ARG6510019M21090447042450<<<<<<<4\n",
      "FDLD2NB<<2ARG9709203F2308124E3YL3DH<<<<<<<9\n",
      "1RVBPKZ7Q3ARG8102195M4905158EDIP2V<<<<<<<<7\n",
      "RG5J6TX6<1ARG0411240<991213150517<<<<<<<<<8\n",
      "VKCTSLUY<9ARG0210177M3308154<<<<<<<<<<<<<<0\n",
      "N380ZR4<<8ARG6512275M92091496W7FZLNK<<<<<<7\n",
      "VLA57<<<<6ARG8806138M2606288H32X7<<<<<<<<<2\n",
      "9NTN1OS6<3ARG7302105F92092206SXYZ6HW<<<<<<3\n",
      "04439744<1ARG7702244<9504246XZXUKPJ<<<<<<<7\n"
     ]
    }
   ],
   "source": [
    "#line 2:\n",
    "line2=[]\n",
    "n = len(updated_num_pp)\n",
    "for i in range(n):\n",
    "    combined = (\n",
    "        str(updated_num_pp[i]) +\n",
    "        str(check_digit_num_pp[i]) +\n",
    "        country[i] +\n",
    "        str(dates[i]) +\n",
    "        str(check_digit_dates[i]) +\n",
    "        sex[i] +\n",
    "        str(expiration_dates[i]) +\n",
    "        str(check_digit_expiration_dates[i]) +\n",
    "        str(personal_numbers[i]) +\n",
    "        str(check_digit_personal_numbers[i])\n",
    "    )\n",
    "    line2.append(combined)\n",
    "for line in line2:\n",
    "    print(line)"
   ]
  },
  {
   "cell_type": "code",
   "execution_count": 28,
   "id": "946bdea0",
   "metadata": {
    "scrolled": true
   },
   "outputs": [
    {
     "name": "stdout",
     "output_type": "stream",
     "text": [
      "PDARGA<<<<<<<<<<<<<<<<<<<<<<<<<<<<<<<<<<<<<<8AXCG<<<<1ARG7804148F1504022437961<<<<<<<<6\n",
      "PPARGJUAN<<MARTINEZ<<<<<<<<<<<<<<<<<<<<<<<<<D33OK8K8<3ARG7806164M3112294921365<<<<<<<<4\n",
      "P<ARGKIMBERLY<<BLAKE<<<<<<<<<<<<<<<<<<<<<<<<LBOTBD<<<3ARG8408277M24020447627702<<<<<<<3\n",
      "P<ARGTHOMAS<<YODER<<<<<<<<<<<<<<<<<<<<<<<<<<GETIX5MUK7ARG7204014M3607282<<<<<<<<<<<<<<0\n",
      "PPARGMARY<<PAGE<<<<<<<<<<<<<<<<<<<<<<<<<<<<<G8D1HLJ6P4ARG6411116M4111102NCHP6D<<<<<<<<0\n",
      "P<ARGEMILY<<COHEN<<<<<<<<<<<<<<<<<<<<<<<<<<<BX39GH1M<0ARG6610160F3607307<<<<<<<<<<<<<<0\n",
      "P<ARGELIZABETH<<DEAN<<<<<<<<<<<<<<<<<<<<<<<<9TN8EPXAE1ARG6603207M1812040<<<<<<<<<<<<<<0\n",
      "P<ARGCHRISTINE<<LANE<<<<<<<<<<<<<<<<<<<<<<<<9980379546ARG7810163F32011749045342<<<<<<<9\n",
      "PSARGMIRANDA<<MORALES<<<<<<<<<<<<<<<<<<<<<<<0642944<<5ARG8511238M1102288QVEZWEEE2<<<<<6\n",
      "PPARGMARY<<FERNANDEZ<<<<<<<<<<<<<<<<<<<<<<<<0731259<<5ARG8902122M940214671624459<<<<<<0\n",
      "P<ARGJOAN<<ANDERSON<<<<<<<<<<<<<<<<<<<<<<<<<26606848<6ARG9711194M43012776368457<<<<<<<9\n",
      "P<ARGJOHN<<MANNING<<<<<<<<<<<<<<<<<<<<<<<<<<HFHAVCLUI1ARG8902085M1005161963167<<<<<<<<6\n",
      "P<ARGLISA<<CANTU<<<<<<<<<<<<<<<<<<<<<<<<<<<<W5YJCVLTW9ARG0510246M0105259ZDIWX0<<<<<<<<5\n",
      "PXARGDIANA<<PORTER<<<<<<<<<<<<<<<<<<<<<<<<<<0ZTON4WE<1ARG8510242M0502250<<<<<<<<<<<<<<0\n",
      "P<ARGROBERT<<SMITH<<<<<<<<<<<<<<<<<<<<<<<<<<P6J3NFJ<<0ARG0109235M32012993KSWLZ<<<<<<<<1\n",
      "P<ARGMARIA<<MURRAY<<<<<<<<<<<<<<<<<<<<<<<<<<EI80F8<<<3ARG9706198<271130206JJWFIV9<<<<<9\n",
      "P<ARGJENNIFER<<WADE<<<<<<<<<<<<<<<<<<<<<<<<<BHZE8DDVX5ARG8702160M29030916TE7RFO10<<<<<9\n",
      "P<ARGMARY<<LOGAN<<<<<<<<<<<<<<<<<<<<<<<<<<<<FQDPEP8X81ARG7507162F4208055RWXG2PPC4<<<<<6\n",
      "P<ARGMARY<<MORRIS<<<<<<<<<<<<<<<<<<<<<<<<<<<TXRZ707JT0ARG9601064<4802154UFC8OQF<<<<<<<6\n",
      "P<ARGJENNIFER<<BURGESS<<<<<<<<<<<<<<<<<<<<<<7068383124ARG9907191F9406100<<<<<<<<<<<<<<0\n",
      "P<ARGPATRICK<<RAMIREZ<<<<<<<<<<<<<<<<<<<<<<<81952<<<<9ARG8512305F4404134<<<<<<<<<<<<<<0\n",
      "PDARGJAMES<<SANCHEZ<<<<<<<<<<<<<<<<<<<<<<<<<07944029<1ARG9803053F90111601GKO0VAAC<<<<<6\n",
      "P<ARGJIMMY<<DAVIS<<<<<<<<<<<<<<<<<<<<<<<<<<<55186<<<<5ARG9804223M2009041USXETBDCC<<<<<2\n",
      "P<ARGDEVIN<<MARTIN<<<<<<<<<<<<<<<<<<<<<<<<<<PUL2IU0NG9ARG8006237M240805761456<<<<<<<<<2\n",
      "P<ARGAMY<<SAVAGE<<<<<<<<<<<<<<<<<<<<<<<<<<<<LNTZFEAE67ARG6308188F090220774312<<<<<<<<<7\n",
      "P<ARGTINA<<LOPEZ<<<<<<<<<<<<<<<<<<<<<<<<<<<<M9P4I3B6G2ARG8703145M41080186B3G1WU<<<<<<<5\n",
      "P<ARGJASON<<LYONS<<<<<<<<<<<<<<<<<<<<<<<<<<<YE5CPAODH8ARG8209267F010923581706<<<<<<<<<4\n",
      "P<ARGKAYLA<<HESS<<<<<<<<<<<<<<<<<<<<<<<<<<<<219970<<<0ARG0207315F0308153<<<<<<<<<<<<<<0\n",
      "P<ARGSHANNON<<MCINTOSH<<<<<<<<<<<<<<<<<<<<<<0211737<<7ARG9502172F15010984270974326<<<<6\n",
      "P<ARGROBERT<<STOKES<<<<<<<<<<<<<<<<<<<<<<<<<OYA4BJ35V7ARG9104211F9310287416519678<<<<<5\n",
      "P<ARGCASSANDRA<<WARREN<<<<<<<<<<<<<<<<<<<<<<TP6RPB5Y95ARG0309150F0610261DD2MYM0D0<<<<<9\n",
      "P<ARGJENNIFER<<WALKER<<<<<<<<<<<<<<<<<<<<<<<0V92736<<2ARG7509029M490408154ZA3R<<<<<<<<8\n",
      "P<ARGADAM<<HANSEN<<<<<<<<<<<<<<<<<<<<<<<<<<<8891964<<7ARG7201275F12100606498455<<<<<<<1\n",
      "P<ARGVIRGINIA<<HERNANDEZ<<<<<<<<<<<<<<<<<<<<TEUARWN<<9ARG6412146F9407255<<<<<<<<<<<<<<0\n",
      "P<ARGANDRE<<WILKINS<<<<<<<<<<<<<<<<<<<<<<<<<T7NT9VVVH5ARG6307206M9801314JB9AR<<<<<<<<<6\n",
      "P<ARGBARBARA<<WILSON<<<<<<<<<<<<<<<<<<<<<<<<MXDENYJX<9ARG6808046M4809278<<<<<<<<<<<<<<0\n",
      "P<ARGTAMARA<<BURKE<<<<<<<<<<<<<<<<<<<<<<<<<<74ETPZ2<<2ARG7408133F3809178BL8EFVJL4<<<<<2\n",
      "POARGROBERT<<WRIGHT<<<<<<<<<<<<<<<<<<<<<<<<<38295<<<<5ARG9103317F371220300383<<<<<<<<<8\n",
      "P<ARGJOSEPH<<GRAY<<<<<<<<<<<<<<<<<<<<<<<<<<<YK3UHDUTX5ARG8604127F45041595NBNGHNQP<<<<<5\n",
      "P<ARGDIANA<<WARD<<<<<<<<<<<<<<<<<<<<<<<<<<<<HVNJ82<<<4ARG7402212M1403192<<<<<<<<<<<<<<0\n",
      "P<ARGKRISTINE<<RTIZ<<<<<<<<<<<<<<<<<<<<<<<<<992735<<<5ARG7309137<9901177143852885<<<<<0\n",
      "P<ARGTIM<<HAAS<<<<<<<<<<<<<<<<<<<<<<<<<<<<<<CZCBMJ0<<3ARG6601269M9811290CZAEN<<<<<<<<<6\n",
      "PPARGJUSTIN<<LIVER<<<<<<<<<<<<<<<<<<<<<<<<<<3X21V9GV84ARG0306160F4101053R4RWBE2N<<<<<<2\n",
      "P<ARGDAVID<<PAUL<<<<<<<<<<<<<<<<<<<<<<<<<<<<LBU0RLJH<6ARG6709132F4708072JDB32IOPL<<<<<2\n",
      "PPARGALEC<<BROWN<<<<<<<<<<<<<<<<<<<<<<<<<<<<4179795567ARG8312169F360917213182<<<<<<<<<9\n",
      "P<ARGHANNAH<<CRUZ<DDS<<<<<<<<<<<<<<<<<<<<<<<OPCL74DLX4ARG0512022M3406072<<<<<<<<<<<<<<0\n",
      "P<ARGSUMMER<<WHITE<<<<<<<<<<<<<<<<<<<<<<<<<<8604156806ARG7110151M420712822096556<<<<<<9\n",
      "P<ARGJOSEPH<<ESTES<<<<<<<<<<<<<<<<<<<<<<<<<<22YTMU4L<4ARG9411265M1802049<<<<<<<<<<<<<<0\n",
      "P<ARGJESSICA<<GREEN<<<<<<<<<<<<<<<<<<<<<<<<<CPWBRG<<<5ARG9110203M2006246<<<<<<<<<<<<<<0\n",
      "PPARGSUSAN<<FRANKLIN<<<<<<<<<<<<<<<<<<<<<<<<ZMQ0UZ1W38ARG7805259F42021781948<<<<<<<<<<4\n",
      "PPARGJORDAN<<JIMENEZ<<<<<<<<<<<<<<<<<<<<<<<<VN6OZWJ8C6ARG8408118F9212314<<<<<<<<<<<<<<0\n",
      "P<ARGJACQUELINE<<MCINTYRE<<<<<<<<<<<<<<<<<<<7253598<<1ARG0201232<04053170083295<<<<<<<9\n",
      "P<ARGALLISON<<SMITH<<<<<<<<<<<<<<<<<<<<<<<<<S30WY8A<<9ARG7509074F9809170D95GB4WV<<<<<<9\n",
      "P<ARGDEBORAH<<COOK<<<<<<<<<<<<<<<<<<<<<<<<<<LD73CC0OM6ARG7101261M95102380883<<<<<<<<<<3\n",
      "P<ARGDANIELLE<<MARSHALL<<<<<<<<<<<<<<<<<<<<<Y6FQ0F7TU4ARG7212125M14072592865851<<<<<<<5\n",
      "P<ARGKATHERINE<<TYLER<<<<<<<<<<<<<<<<<<<<<<<1CT7GH0LZ4ARG6704089M0105075<<<<<<<<<<<<<<0\n",
      "P<ARGBRETT<<GONZALEZ<<<<<<<<<<<<<<<<<<<<<<<<6379298<<2ARG9712135F42011268911<<<<<<<<<<1\n",
      "P<ARGEMILY<<PAUL<<<<<<<<<<<<<<<<<<<<<<<<<<<<23878<<<<4ARG9109179<3403277<<<<<<<<<<<<<<0\n",
      "P<ARGDANIEL<<BRYANT<<<<<<<<<<<<<<<<<<<<<<<<<64547<<<<8ARG8804020M2111197207602560<<<<<8\n",
      "P<ARGDAVID<<PRESTON<<<<<<<<<<<<<<<<<<<<<<<<<4LG460<<<3ARG9901096M1912113<<<<<<<<<<<<<<0\n",
      "P<ARGMATTHEW<<MOLINA<<<<<<<<<<<<<<<<<<<<<<<<FIBPTM3Q<3ARG7303043M3612222988962735<<<<<1\n",
      "P<ARGDAVID<<RICHARDSON<<<<<<<<<<<<<<<<<<<<<<71877832<5ARG0010045F18042941LTH4<<<<<<<<<0\n",
      "PPARGCALEB<<BRYANT<<<<<<<<<<<<<<<<<<<<<<<<<<Y7XZYNZFD5ARG6311294F93011246834<<<<<<<<<<7\n",
      "PXARGADAM<<CAMPOS<<<<<<<<<<<<<<<<<<<<<<<<<<<35036203<6ARG9404140M500407018216284<<<<<<8\n",
      "P<ARGTRACY<<HALL<<<<<<<<<<<<<<<<<<<<<<<<<<<<CUM9Z<<<<4ARG6610300M09020568NI7O<<<<<<<<<4\n",
      "P<ARGSANDRA<<WEEKS<<<<<<<<<<<<<<<<<<<<<<<<<<54655<<<<3ARG7212217F160315444TA135H<<<<<<1\n",
      "POARGCAITLIN<<WALKER<<<<<<<<<<<<<<<<<<<<<<<<EBYN4YP6<5ARG0209168<26060262074911<<<<<<<4\n",
      "P<ARGMOLLY<<ELLIS<<<<<<<<<<<<<<<<<<<<<<<<<<<5QJ2JZC<<2ARG6408055F17101462793797532<<<<6\n",
      "P<ARGSAMANTHA<<SWEENEY<<<<<<<<<<<<<<<<<<<<<<89583427<2ARG6304261F1104293W3CZ7<<<<<<<<<1\n",
      "PPARGNINA<<KRAMER<<<<<<<<<<<<<<<<<<<<<<<<<<<SYJ1KBD<<6ARG8112071M9410095<<<<<<<<<<<<<<0\n",
      "P<ARGDREW<<CRUZ<<<<<<<<<<<<<<<<<<<<<<<<<<<<<627975<<<4ARG8101062F0205090205123372<<<<<9\n",
      "P<ARGJASON<<HUTCHINSON<<<<<<<<<<<<<<<<<<<<<<DKW0J<<<<0ARG8802130M290417952JMSD8<<<<<<<7\n",
      "P<ARGMARK<<RICHARDS<<<<<<<<<<<<<<<<<<<<<<<<<66Y4V3T171ARG8902030F4606226GQ45U1NBF<<<<<9\n",
      "P<ARGSTEPHEN<<JONES<<<<<<<<<<<<<<<<<<<<<<<<<A8B019<<<7ARG7011292<270723357040143<<<<<<2\n",
      "PPARGMARIA<<SHERMAN<<<<<<<<<<<<<<<<<<<<<<<<<DT9BIS<<<6ARG7203073F13052308353229<<<<<<<2\n",
      "P<ARGCHRISTINA<<MARTINEZ<<<<<<<<<<<<<<<<<<<<02ZIBA1BS8ARG8910152M9508196V6012TT<<<<<<<0\n",
      "P<ARGEDGAR<<CRAWFORD<<<<<<<<<<<<<<<<<<<<<<<<CDJUXSXZJ4ARG8608099F45061082744711556<<<<8\n",
      "PPARGCATHERINE<<PERRY<<<<<<<<<<<<<<<<<<<<<<<2125U<<<<4ARG7205103F3905140MDYK6MZCW<<<<<0\n",
      "P<ARGKAREN<<GILES<<<<<<<<<<<<<<<<<<<<<<<<<<<SXA3K8K026ARG8108131M4404086<<<<<<<<<<<<<<0\n",
      "P<ARGZACHARY<<GONZALEZ<<<<<<<<<<<<<<<<<<<<<<PUWXN<<<<7ARG7503267<940711801640<<<<<<<<<7\n",
      "P<ARGRYAN<<JACOBS<<<<<<<<<<<<<<<<<<<<<<<<<<<0TLFMSECP6ARG7509269M3706288042522<<<<<<<<7\n",
      "P<ARGETHAN<<RIVERA<<<<<<<<<<<<<<<<<<<<<<<<<<9EUWNMHBR9ARG8307152F3801116775711497<<<<<0\n",
      "P<ARGOLIVIA<<SHERMAN<<<<<<<<<<<<<<<<<<<<<<<<12PFVW7M<3ARG8106104F48021107413<<<<<<<<<<3\n",
      "P<ARGNICOLE<<YOUNG<<<<<<<<<<<<<<<<<<<<<<<<<<9046640<<1ARG9009202F12012514NNRSN<<<<<<<<6\n",
      "P<ARGJOHN<<HALL<<<<<<<<<<<<<<<<<<<<<<<<<<<<<9V0E06CBU7ARG6807175F0410209MHDDSZE<<<<<<<6\n",
      "P<ARGDONNA<<COLLINS<<<<<<<<<<<<<<<<<<<<<<<<<YKWGQ5A201ARG7504149M49052405323701<<<<<<<5\n",
      "P<ARGSTEVEN<<MARTINEZ<<<<<<<<<<<<<<<<<<<<<<<7796202539ARG0010137F9409204FJ5IB0<<<<<<<<6\n",
      "PSARGMICHELE<<GREEN<<<<<<<<<<<<<<<<<<<<<<<<<7DHG8MI7C2ARG7307041F4708223908090665<<<<<3\n",
      "P<ARGCHRISTOPHER<<LEE<<<<<<<<<<<<<<<<<<<<<<<PN4V1A<<<8ARG7504079F4305116XVSJEIUR<<<<<<6\n",
      "P<ARGBARBARA<<ROMAN<<<<<<<<<<<<<<<<<<<<<<<<<446394<<<8ARG8403180M97050655WXXS<<<<<<<<<9\n",
      "P<ARGBRITTANY<<CONRAD<<<<<<<<<<<<<<<<<<<<<<<3004617856ARG7104192F9202047WHLRUUM3<<<<<<8\n",
      "P<ARGBRIAN<<MCDONALD<<<<<<<<<<<<<<<<<<<<<<<<8986207<<8ARG6510019M21090447042450<<<<<<<4\n",
      "P<ARGAARON<<CARROLL<<<<<<<<<<<<<<<<<<<<<<<<<FDLD2NB<<2ARG9709203F2308124E3YL3DH<<<<<<<9\n",
      "P<ARGDANIELLE<<BEASLEY<<<<<<<<<<<<<<<<<<<<<<1RVBPKZ7Q3ARG8102195M4905158EDIP2V<<<<<<<<7\n",
      "PPARGAMANDA<<GUERRERO<DDS<<<<<<<<<<<<<<<<<<<RG5J6TX6<1ARG0411240<991213150517<<<<<<<<<8\n",
      "P<ARGKRISTA<<MARTINEZ<<<<<<<<<<<<<<<<<<<<<<<VKCTSLUY<9ARG0210177M3308154<<<<<<<<<<<<<<0\n",
      "P<ARGANTHONY<<HAYDEN<<<<<<<<<<<<<<<<<<<<<<<<N380ZR4<<8ARG6512275M92091496W7FZLNK<<<<<<7\n",
      "P<ARGJACQUELINE<<DUNN<<<<<<<<<<<<<<<<<<<<<<<VLA57<<<<6ARG8806138M2606288H32X7<<<<<<<<<2\n",
      "P<ARGPAUL<<JOHNSON<<<<<<<<<<<<<<<<<<<<<<<<<<9NTN1OS6<3ARG7302105F92092206SXYZ6HW<<<<<<3\n",
      "P<ARGCHRISTOPHER<<LAMBERT<<<<<<<<<<<<<<<<<<<04439744<1ARG7702244<9504246XZXUKPJ<<<<<<<7\n"
     ]
    }
   ],
   "source": [
    "n = len(line1)\n",
    "line87chars = [line1[i] + line2[i] for i in range(n)]\n",
    "for line in line87chars:\n",
    "    print(line)"
   ]
  },
  {
   "cell_type": "markdown",
   "id": "1a9bdb1f",
   "metadata": {},
   "source": [
    "### 44"
   ]
  },
  {
   "cell_type": "code",
   "execution_count": 29,
   "id": "3bf46788",
   "metadata": {},
   "outputs": [
    {
     "name": "stdout",
     "output_type": "stream",
     "text": [
      "[9, 8, 6, 5, 0, 3, 6, 6, 8, 1, 9, 7, 8, 4, 1, 0, 5, 1, 8, 5, 8, 9, 8, 3, 3, 4, 6, 0, 5, 7, 8, 8, 0, 1, 2, 3, 6, 1, 0, 1, 7, 3, 3, 9, 1, 7, 6, 5, 8, 5, 8, 3, 1, 9, 3, 4, 2, 4, 0, 6, 2, 6, 7, 4, 0, 3, 6, 6, 4, 4, 4, 6, 7, 1, 5, 7, 4, 6, 2, 6, 1, 8, 9, 9, 6, 3, 3, 6, 7, 1, 4, 0, 8, 5, 5, 3, 0, 5, 2, 9]\n"
     ]
    }
   ],
   "source": [
    "# check digit line 87 char\n",
    "# check_digit_line87chars\n",
    "def char_to_value(c):\n",
    "    if '0' <= c <= '9':\n",
    "        return int(c)\n",
    "    elif 'A' <= c <= 'Z':\n",
    "        return ord(c) - ord('A') + 10\n",
    "    elif c == '<':\n",
    "        return 0\n",
    "\n",
    "def calculate_check_digit(s):\n",
    "    factors = [7, 3, 1]\n",
    "    total = 0\n",
    "    \n",
    "    for i, c in enumerate(s):\n",
    "        value = char_to_value(c)\n",
    "        factor = factors[i % len(factors)]\n",
    "        total += value * factor\n",
    "    \n",
    "    return total % 10\n",
    "\n",
    "\n",
    "check_digit_line87chars = [calculate_check_digit(number) for number in line87chars]\n",
    "\n",
    "print(check_digit_line87chars)"
   ]
  },
  {
   "cell_type": "code",
   "execution_count": 30,
   "id": "4d955250",
   "metadata": {
    "scrolled": true
   },
   "outputs": [
    {
     "name": "stdout",
     "output_type": "stream",
     "text": [
      "PDARGA<<<<<<<<<<<<<<<<<<<<<<<<<<<<<<<<<<<<<<8AXCG<<<<1ARG7804148F1504022437961<<<<<<<<69\n",
      "PPARGJUAN<<MARTINEZ<<<<<<<<<<<<<<<<<<<<<<<<<D33OK8K8<3ARG7806164M3112294921365<<<<<<<<48\n",
      "P<ARGKIMBERLY<<BLAKE<<<<<<<<<<<<<<<<<<<<<<<<LBOTBD<<<3ARG8408277M24020447627702<<<<<<<36\n",
      "P<ARGTHOMAS<<YODER<<<<<<<<<<<<<<<<<<<<<<<<<<GETIX5MUK7ARG7204014M3607282<<<<<<<<<<<<<<05\n",
      "PPARGMARY<<PAGE<<<<<<<<<<<<<<<<<<<<<<<<<<<<<G8D1HLJ6P4ARG6411116M4111102NCHP6D<<<<<<<<00\n",
      "P<ARGEMILY<<COHEN<<<<<<<<<<<<<<<<<<<<<<<<<<<BX39GH1M<0ARG6610160F3607307<<<<<<<<<<<<<<03\n",
      "P<ARGELIZABETH<<DEAN<<<<<<<<<<<<<<<<<<<<<<<<9TN8EPXAE1ARG6603207M1812040<<<<<<<<<<<<<<06\n",
      "P<ARGCHRISTINE<<LANE<<<<<<<<<<<<<<<<<<<<<<<<9980379546ARG7810163F32011749045342<<<<<<<96\n",
      "PSARGMIRANDA<<MORALES<<<<<<<<<<<<<<<<<<<<<<<0642944<<5ARG8511238M1102288QVEZWEEE2<<<<<68\n",
      "PPARGMARY<<FERNANDEZ<<<<<<<<<<<<<<<<<<<<<<<<0731259<<5ARG8902122M940214671624459<<<<<<01\n",
      "P<ARGJOAN<<ANDERSON<<<<<<<<<<<<<<<<<<<<<<<<<26606848<6ARG9711194M43012776368457<<<<<<<99\n",
      "P<ARGJOHN<<MANNING<<<<<<<<<<<<<<<<<<<<<<<<<<HFHAVCLUI1ARG8902085M1005161963167<<<<<<<<67\n",
      "P<ARGLISA<<CANTU<<<<<<<<<<<<<<<<<<<<<<<<<<<<W5YJCVLTW9ARG0510246M0105259ZDIWX0<<<<<<<<58\n",
      "PXARGDIANA<<PORTER<<<<<<<<<<<<<<<<<<<<<<<<<<0ZTON4WE<1ARG8510242M0502250<<<<<<<<<<<<<<04\n",
      "P<ARGROBERT<<SMITH<<<<<<<<<<<<<<<<<<<<<<<<<<P6J3NFJ<<0ARG0109235M32012993KSWLZ<<<<<<<<11\n",
      "P<ARGMARIA<<MURRAY<<<<<<<<<<<<<<<<<<<<<<<<<<EI80F8<<<3ARG9706198<271130206JJWFIV9<<<<<90\n",
      "P<ARGJENNIFER<<WADE<<<<<<<<<<<<<<<<<<<<<<<<<BHZE8DDVX5ARG8702160M29030916TE7RFO10<<<<<95\n",
      "P<ARGMARY<<LOGAN<<<<<<<<<<<<<<<<<<<<<<<<<<<<FQDPEP8X81ARG7507162F4208055RWXG2PPC4<<<<<61\n",
      "P<ARGMARY<<MORRIS<<<<<<<<<<<<<<<<<<<<<<<<<<<TXRZ707JT0ARG9601064<4802154UFC8OQF<<<<<<<68\n",
      "P<ARGJENNIFER<<BURGESS<<<<<<<<<<<<<<<<<<<<<<7068383124ARG9907191F9406100<<<<<<<<<<<<<<05\n",
      "P<ARGPATRICK<<RAMIREZ<<<<<<<<<<<<<<<<<<<<<<<81952<<<<9ARG8512305F4404134<<<<<<<<<<<<<<08\n",
      "PDARGJAMES<<SANCHEZ<<<<<<<<<<<<<<<<<<<<<<<<<07944029<1ARG9803053F90111601GKO0VAAC<<<<<69\n",
      "P<ARGJIMMY<<DAVIS<<<<<<<<<<<<<<<<<<<<<<<<<<<55186<<<<5ARG9804223M2009041USXETBDCC<<<<<28\n",
      "P<ARGDEVIN<<MARTIN<<<<<<<<<<<<<<<<<<<<<<<<<<PUL2IU0NG9ARG8006237M240805761456<<<<<<<<<23\n",
      "P<ARGAMY<<SAVAGE<<<<<<<<<<<<<<<<<<<<<<<<<<<<LNTZFEAE67ARG6308188F090220774312<<<<<<<<<73\n",
      "P<ARGTINA<<LOPEZ<<<<<<<<<<<<<<<<<<<<<<<<<<<<M9P4I3B6G2ARG8703145M41080186B3G1WU<<<<<<<54\n",
      "P<ARGJASON<<LYONS<<<<<<<<<<<<<<<<<<<<<<<<<<<YE5CPAODH8ARG8209267F010923581706<<<<<<<<<46\n",
      "P<ARGKAYLA<<HESS<<<<<<<<<<<<<<<<<<<<<<<<<<<<219970<<<0ARG0207315F0308153<<<<<<<<<<<<<<00\n",
      "P<ARGSHANNON<<MCINTOSH<<<<<<<<<<<<<<<<<<<<<<0211737<<7ARG9502172F15010984270974326<<<<65\n",
      "P<ARGROBERT<<STOKES<<<<<<<<<<<<<<<<<<<<<<<<<OYA4BJ35V7ARG9104211F9310287416519678<<<<<57\n",
      "P<ARGCASSANDRA<<WARREN<<<<<<<<<<<<<<<<<<<<<<TP6RPB5Y95ARG0309150F0610261DD2MYM0D0<<<<<98\n",
      "P<ARGJENNIFER<<WALKER<<<<<<<<<<<<<<<<<<<<<<<0V92736<<2ARG7509029M490408154ZA3R<<<<<<<<88\n",
      "P<ARGADAM<<HANSEN<<<<<<<<<<<<<<<<<<<<<<<<<<<8891964<<7ARG7201275F12100606498455<<<<<<<10\n",
      "P<ARGVIRGINIA<<HERNANDEZ<<<<<<<<<<<<<<<<<<<<TEUARWN<<9ARG6412146F9407255<<<<<<<<<<<<<<01\n",
      "P<ARGANDRE<<WILKINS<<<<<<<<<<<<<<<<<<<<<<<<<T7NT9VVVH5ARG6307206M9801314JB9AR<<<<<<<<<62\n",
      "P<ARGBARBARA<<WILSON<<<<<<<<<<<<<<<<<<<<<<<<MXDENYJX<9ARG6808046M4809278<<<<<<<<<<<<<<03\n",
      "P<ARGTAMARA<<BURKE<<<<<<<<<<<<<<<<<<<<<<<<<<74ETPZ2<<2ARG7408133F3809178BL8EFVJL4<<<<<26\n",
      "POARGROBERT<<WRIGHT<<<<<<<<<<<<<<<<<<<<<<<<<38295<<<<5ARG9103317F371220300383<<<<<<<<<81\n",
      "P<ARGJOSEPH<<GRAY<<<<<<<<<<<<<<<<<<<<<<<<<<<YK3UHDUTX5ARG8604127F45041595NBNGHNQP<<<<<50\n",
      "P<ARGDIANA<<WARD<<<<<<<<<<<<<<<<<<<<<<<<<<<<HVNJ82<<<4ARG7402212M1403192<<<<<<<<<<<<<<01\n",
      "P<ARGKRISTINE<<RTIZ<<<<<<<<<<<<<<<<<<<<<<<<<992735<<<5ARG7309137<9901177143852885<<<<<07\n",
      "P<ARGTIM<<HAAS<<<<<<<<<<<<<<<<<<<<<<<<<<<<<<CZCBMJ0<<3ARG6601269M9811290CZAEN<<<<<<<<<63\n",
      "PPARGJUSTIN<<LIVER<<<<<<<<<<<<<<<<<<<<<<<<<<3X21V9GV84ARG0306160F4101053R4RWBE2N<<<<<<23\n",
      "P<ARGDAVID<<PAUL<<<<<<<<<<<<<<<<<<<<<<<<<<<<LBU0RLJH<6ARG6709132F4708072JDB32IOPL<<<<<29\n",
      "PPARGALEC<<BROWN<<<<<<<<<<<<<<<<<<<<<<<<<<<<4179795567ARG8312169F360917213182<<<<<<<<<91\n",
      "P<ARGHANNAH<<CRUZ<DDS<<<<<<<<<<<<<<<<<<<<<<<OPCL74DLX4ARG0512022M3406072<<<<<<<<<<<<<<07\n",
      "P<ARGSUMMER<<WHITE<<<<<<<<<<<<<<<<<<<<<<<<<<8604156806ARG7110151M420712822096556<<<<<<96\n",
      "P<ARGJOSEPH<<ESTES<<<<<<<<<<<<<<<<<<<<<<<<<<22YTMU4L<4ARG9411265M1802049<<<<<<<<<<<<<<05\n",
      "P<ARGJESSICA<<GREEN<<<<<<<<<<<<<<<<<<<<<<<<<CPWBRG<<<5ARG9110203M2006246<<<<<<<<<<<<<<08\n",
      "PPARGSUSAN<<FRANKLIN<<<<<<<<<<<<<<<<<<<<<<<<ZMQ0UZ1W38ARG7805259F42021781948<<<<<<<<<<45\n",
      "PPARGJORDAN<<JIMENEZ<<<<<<<<<<<<<<<<<<<<<<<<VN6OZWJ8C6ARG8408118F9212314<<<<<<<<<<<<<<08\n",
      "P<ARGJACQUELINE<<MCINTYRE<<<<<<<<<<<<<<<<<<<7253598<<1ARG0201232<04053170083295<<<<<<<93\n",
      "P<ARGALLISON<<SMITH<<<<<<<<<<<<<<<<<<<<<<<<<S30WY8A<<9ARG7509074F9809170D95GB4WV<<<<<<91\n",
      "P<ARGDEBORAH<<COOK<<<<<<<<<<<<<<<<<<<<<<<<<<LD73CC0OM6ARG7101261M95102380883<<<<<<<<<<39\n",
      "P<ARGDANIELLE<<MARSHALL<<<<<<<<<<<<<<<<<<<<<Y6FQ0F7TU4ARG7212125M14072592865851<<<<<<<53\n",
      "P<ARGKATHERINE<<TYLER<<<<<<<<<<<<<<<<<<<<<<<1CT7GH0LZ4ARG6704089M0105075<<<<<<<<<<<<<<04\n",
      "P<ARGBRETT<<GONZALEZ<<<<<<<<<<<<<<<<<<<<<<<<6379298<<2ARG9712135F42011268911<<<<<<<<<<12\n",
      "P<ARGEMILY<<PAUL<<<<<<<<<<<<<<<<<<<<<<<<<<<<23878<<<<4ARG9109179<3403277<<<<<<<<<<<<<<04\n",
      "P<ARGDANIEL<<BRYANT<<<<<<<<<<<<<<<<<<<<<<<<<64547<<<<8ARG8804020M2111197207602560<<<<<80\n",
      "P<ARGDAVID<<PRESTON<<<<<<<<<<<<<<<<<<<<<<<<<4LG460<<<3ARG9901096M1912113<<<<<<<<<<<<<<06\n",
      "P<ARGMATTHEW<<MOLINA<<<<<<<<<<<<<<<<<<<<<<<<FIBPTM3Q<3ARG7303043M3612222988962735<<<<<12\n",
      "P<ARGDAVID<<RICHARDSON<<<<<<<<<<<<<<<<<<<<<<71877832<5ARG0010045F18042941LTH4<<<<<<<<<06\n",
      "PPARGCALEB<<BRYANT<<<<<<<<<<<<<<<<<<<<<<<<<<Y7XZYNZFD5ARG6311294F93011246834<<<<<<<<<<77\n",
      "PXARGADAM<<CAMPOS<<<<<<<<<<<<<<<<<<<<<<<<<<<35036203<6ARG9404140M500407018216284<<<<<<84\n",
      "P<ARGTRACY<<HALL<<<<<<<<<<<<<<<<<<<<<<<<<<<<CUM9Z<<<<4ARG6610300M09020568NI7O<<<<<<<<<40\n",
      "P<ARGSANDRA<<WEEKS<<<<<<<<<<<<<<<<<<<<<<<<<<54655<<<<3ARG7212217F160315444TA135H<<<<<<13\n",
      "POARGCAITLIN<<WALKER<<<<<<<<<<<<<<<<<<<<<<<<EBYN4YP6<5ARG0209168<26060262074911<<<<<<<46\n",
      "P<ARGMOLLY<<ELLIS<<<<<<<<<<<<<<<<<<<<<<<<<<<5QJ2JZC<<2ARG6408055F17101462793797532<<<<66\n",
      "P<ARGSAMANTHA<<SWEENEY<<<<<<<<<<<<<<<<<<<<<<89583427<2ARG6304261F1104293W3CZ7<<<<<<<<<14\n",
      "PPARGNINA<<KRAMER<<<<<<<<<<<<<<<<<<<<<<<<<<<SYJ1KBD<<6ARG8112071M9410095<<<<<<<<<<<<<<04\n",
      "P<ARGDREW<<CRUZ<<<<<<<<<<<<<<<<<<<<<<<<<<<<<627975<<<4ARG8101062F0205090205123372<<<<<94\n",
      "P<ARGJASON<<HUTCHINSON<<<<<<<<<<<<<<<<<<<<<<DKW0J<<<<0ARG8802130M290417952JMSD8<<<<<<<76\n",
      "P<ARGMARK<<RICHARDS<<<<<<<<<<<<<<<<<<<<<<<<<66Y4V3T171ARG8902030F4606226GQ45U1NBF<<<<<97\n",
      "P<ARGSTEPHEN<<JONES<<<<<<<<<<<<<<<<<<<<<<<<<A8B019<<<7ARG7011292<270723357040143<<<<<<21\n",
      "PPARGMARIA<<SHERMAN<<<<<<<<<<<<<<<<<<<<<<<<<DT9BIS<<<6ARG7203073F13052308353229<<<<<<<25\n",
      "P<ARGCHRISTINA<<MARTINEZ<<<<<<<<<<<<<<<<<<<<02ZIBA1BS8ARG8910152M9508196V6012TT<<<<<<<07\n",
      "P<ARGEDGAR<<CRAWFORD<<<<<<<<<<<<<<<<<<<<<<<<CDJUXSXZJ4ARG8608099F45061082744711556<<<<84\n",
      "PPARGCATHERINE<<PERRY<<<<<<<<<<<<<<<<<<<<<<<2125U<<<<4ARG7205103F3905140MDYK6MZCW<<<<<06\n",
      "P<ARGKAREN<<GILES<<<<<<<<<<<<<<<<<<<<<<<<<<<SXA3K8K026ARG8108131M4404086<<<<<<<<<<<<<<02\n",
      "P<ARGZACHARY<<GONZALEZ<<<<<<<<<<<<<<<<<<<<<<PUWXN<<<<7ARG7503267<940711801640<<<<<<<<<76\n",
      "P<ARGRYAN<<JACOBS<<<<<<<<<<<<<<<<<<<<<<<<<<<0TLFMSECP6ARG7509269M3706288042522<<<<<<<<71\n",
      "P<ARGETHAN<<RIVERA<<<<<<<<<<<<<<<<<<<<<<<<<<9EUWNMHBR9ARG8307152F3801116775711497<<<<<08\n",
      "P<ARGOLIVIA<<SHERMAN<<<<<<<<<<<<<<<<<<<<<<<<12PFVW7M<3ARG8106104F48021107413<<<<<<<<<<39\n",
      "P<ARGNICOLE<<YOUNG<<<<<<<<<<<<<<<<<<<<<<<<<<9046640<<1ARG9009202F12012514NNRSN<<<<<<<<69\n",
      "P<ARGJOHN<<HALL<<<<<<<<<<<<<<<<<<<<<<<<<<<<<9V0E06CBU7ARG6807175F0410209MHDDSZE<<<<<<<66\n",
      "P<ARGDONNA<<COLLINS<<<<<<<<<<<<<<<<<<<<<<<<<YKWGQ5A201ARG7504149M49052405323701<<<<<<<53\n",
      "P<ARGSTEVEN<<MARTINEZ<<<<<<<<<<<<<<<<<<<<<<<7796202539ARG0010137F9409204FJ5IB0<<<<<<<<63\n",
      "PSARGMICHELE<<GREEN<<<<<<<<<<<<<<<<<<<<<<<<<7DHG8MI7C2ARG7307041F4708223908090665<<<<<36\n",
      "P<ARGCHRISTOPHER<<LEE<<<<<<<<<<<<<<<<<<<<<<<PN4V1A<<<8ARG7504079F4305116XVSJEIUR<<<<<<67\n",
      "P<ARGBARBARA<<ROMAN<<<<<<<<<<<<<<<<<<<<<<<<<446394<<<8ARG8403180M97050655WXXS<<<<<<<<<91\n",
      "P<ARGBRITTANY<<CONRAD<<<<<<<<<<<<<<<<<<<<<<<3004617856ARG7104192F9202047WHLRUUM3<<<<<<84\n",
      "P<ARGBRIAN<<MCDONALD<<<<<<<<<<<<<<<<<<<<<<<<8986207<<8ARG6510019M21090447042450<<<<<<<40\n",
      "P<ARGAARON<<CARROLL<<<<<<<<<<<<<<<<<<<<<<<<<FDLD2NB<<2ARG9709203F2308124E3YL3DH<<<<<<<98\n",
      "P<ARGDANIELLE<<BEASLEY<<<<<<<<<<<<<<<<<<<<<<1RVBPKZ7Q3ARG8102195M4905158EDIP2V<<<<<<<<75\n",
      "PPARGAMANDA<<GUERRERO<DDS<<<<<<<<<<<<<<<<<<<RG5J6TX6<1ARG0411240<991213150517<<<<<<<<<85\n",
      "P<ARGKRISTA<<MARTINEZ<<<<<<<<<<<<<<<<<<<<<<<VKCTSLUY<9ARG0210177M3308154<<<<<<<<<<<<<<03\n",
      "P<ARGANTHONY<<HAYDEN<<<<<<<<<<<<<<<<<<<<<<<<N380ZR4<<8ARG6512275M92091496W7FZLNK<<<<<<70\n",
      "P<ARGJACQUELINE<<DUNN<<<<<<<<<<<<<<<<<<<<<<<VLA57<<<<6ARG8806138M2606288H32X7<<<<<<<<<25\n",
      "P<ARGPAUL<<JOHNSON<<<<<<<<<<<<<<<<<<<<<<<<<<9NTN1OS6<3ARG7302105F92092206SXYZ6HW<<<<<<32\n",
      "P<ARGCHRISTOPHER<<LAMBERT<<<<<<<<<<<<<<<<<<<04439744<1ARG7702244<9504246XZXUKPJ<<<<<<<79\n"
     ]
    }
   ],
   "source": [
    "#full line:\n",
    "n = len(line87chars)\n",
    "line = [line87chars[i] + str(check_digit_line87chars[i]) for i in range(n)]\n",
    "for x in line:\n",
    "    print(x)"
   ]
  },
  {
   "cell_type": "code",
   "execution_count": 31,
   "id": "97ed5a66",
   "metadata": {},
   "outputs": [
    {
     "name": "stdout",
     "output_type": "stream",
     "text": [
      "Done\n"
     ]
    }
   ],
   "source": [
    "#nhớ đổi tên country (Ghi hoa chữ đầu)\n",
    "file_path = 'Passport_X_Gen.txt'\n",
    "with open(file_path, 'w') as file:\n",
    "    for item in line:\n",
    "        part1 = item[:44]\n",
    "        part2 = item[44:]\n",
    "        \n",
    "        file.write(part1 + '\\n')\n",
    "        file.write(part2 + '\\n')\n",
    "\n",
    "print('Done')\n"
   ]
  },
  {
   "cell_type": "code",
   "execution_count": null,
   "id": "8097a9ac",
   "metadata": {},
   "outputs": [],
   "source": []
  },
  {
   "cell_type": "code",
   "execution_count": null,
   "id": "f4abd1d1",
   "metadata": {},
   "outputs": [],
   "source": []
  },
  {
   "cell_type": "code",
   "execution_count": null,
   "id": "381414d8",
   "metadata": {},
   "outputs": [],
   "source": []
  },
  {
   "cell_type": "code",
   "execution_count": null,
   "id": "409babd6",
   "metadata": {},
   "outputs": [],
   "source": []
  },
  {
   "cell_type": "code",
   "execution_count": null,
   "id": "c8b68d05",
   "metadata": {},
   "outputs": [],
   "source": []
  },
  {
   "cell_type": "code",
   "execution_count": null,
   "id": "af5c4375",
   "metadata": {},
   "outputs": [],
   "source": []
  },
  {
   "cell_type": "code",
   "execution_count": null,
   "id": "a1356b0f",
   "metadata": {},
   "outputs": [],
   "source": []
  },
  {
   "cell_type": "code",
   "execution_count": null,
   "id": "18303e29",
   "metadata": {},
   "outputs": [],
   "source": []
  },
  {
   "cell_type": "code",
   "execution_count": null,
   "id": "7d9c3f4d",
   "metadata": {},
   "outputs": [],
   "source": []
  },
  {
   "cell_type": "code",
   "execution_count": null,
   "id": "011ead7b",
   "metadata": {},
   "outputs": [],
   "source": []
  },
  {
   "cell_type": "code",
   "execution_count": null,
   "id": "51a9fc50",
   "metadata": {},
   "outputs": [],
   "source": []
  }
 ],
 "metadata": {
  "kernelspec": {
   "display_name": "Python 3 (ipykernel)",
   "language": "python",
   "name": "python3"
  },
  "language_info": {
   "codemirror_mode": {
    "name": "ipython",
    "version": 3
   },
   "file_extension": ".py",
   "mimetype": "text/x-python",
   "name": "python",
   "nbconvert_exporter": "python",
   "pygments_lexer": "ipython3",
   "version": "3.11.5"
  }
 },
 "nbformat": 4,
 "nbformat_minor": 5
}
